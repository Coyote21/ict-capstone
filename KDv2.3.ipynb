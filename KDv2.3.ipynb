{
 "cells": [
  {
   "cell_type": "markdown",
   "id": "c58b3f2b-9be4-4341-854c-19f9bd196e5e",
   "metadata": {},
   "source": [
    "**Initial Setup**"
   ]
  },
  {
   "cell_type": "code",
   "execution_count": 1,
   "id": "b62faa54-039b-4e10-a3b3-bef5007773ab",
   "metadata": {},
   "outputs": [],
   "source": [
    "import pandas as pd\n",
    "import torch\n",
    "from torch import nn\n",
    "from torch.utils.data import DataLoader\n",
    "from torch.amp import GradScaler, autocast\n",
    "from transformers import AutoModelForCausalLM, AutoTokenizer"
   ]
  },
  {
   "cell_type": "markdown",
   "id": "6d5946d0-0a25-4b6d-be98-70ff741ffc61",
   "metadata": {},
   "source": [
    "**Load Models**"
   ]
  },
  {
   "cell_type": "code",
   "execution_count": 2,
   "id": "00d4b3c3-c6e8-4b30-949d-fb4d142c0f14",
   "metadata": {},
   "outputs": [],
   "source": [
    "# Load Teacher and Student Models\n",
    "#teacher_model_name = \"deepseek-ai/DeepSeek-R1-Distill-Qwen-1.5B\"\n",
    "teacher_model_name = \"Jesujuwon/distilgpt2-squad\"\n",
    "#student_model_name = \"Locutusque/TinyMistral-248M\"\n",
    "student_model_name = \"tniranjan/finetuned_tinystories_33M_pretrained_tinystories_ta\"\n",
    "\n",
    "teacher_model = AutoModelForCausalLM.from_pretrained(teacher_model_name)\n",
    "student_model = AutoModelForCausalLM.from_pretrained(student_model_name)\n",
    "\n",
    "teacher_tokenizer = AutoTokenizer.from_pretrained(teacher_model_name)\n",
    "student_tokenizer = AutoTokenizer.from_pretrained(student_model_name)"
   ]
  },
  {
   "cell_type": "markdown",
   "id": "120b1b2c-ef83-46c3-aabc-c1fb32bbc3a9",
   "metadata": {},
   "source": [
    "**Dataset Processing**"
   ]
  },
  {
   "cell_type": "code",
   "execution_count": 3,
   "id": "8cd7333a-d86b-4229-8d9c-20a8b3d5ee27",
   "metadata": {},
   "outputs": [],
   "source": [
    "# Preprocessing function\n",
    "def preprocess_batch(batch, tokenizer, max_length=256):\n",
    "    \"\"\"\n",
    "    Preprocesses a batch of examples into tokenized format.\n",
    "    \"\"\"\n",
    "    # Extract questions and contexts from the batch\n",
    "    questions = [example[\"question\"] for example in batch]\n",
    "    contexts = [example[\"context\"] for example in batch]\n",
    "    \n",
    "    # Tokenize context and question\n",
    "    inputs = tokenizer(\n",
    "        questions,\n",
    "        contexts,\n",
    "        truncation=True,\n",
    "        padding=\"max_length\",\n",
    "        max_length=max_length,\n",
    "        return_tensors=\"pt\"\n",
    "    )\n",
    "    \n",
    "    # Extract answer text (use the first answer for simplicity)\n",
    "    answer_texts = [\n",
    "        example[\"answers\"][\"text\"][0] if len(example[\"answers\"][\"text\"]) > 0 else \"\" \n",
    "        for example in batch\n",
    "    ]\n",
    "    \n",
    "    # Tokenize answers\n",
    "    labels = tokenizer(\n",
    "        answer_texts,\n",
    "        truncation=True,\n",
    "        padding=\"max_length\",\n",
    "        max_length=max_length,\n",
    "        return_tensors=\"pt\"\n",
    "    )[\"input_ids\"]\n",
    "    \n",
    "    # Add labels to inputs\n",
    "    inputs[\"labels\"] = labels\n",
    "    \n",
    "    return inputs"
   ]
  },
  {
   "cell_type": "markdown",
   "id": "82a5b31c-d838-4f04-9675-57f4e0e9f4f3",
   "metadata": {},
   "source": [
    "**Load Dataset**"
   ]
  },
  {
   "cell_type": "code",
   "execution_count": 4,
   "id": "35b7ddb1-18e8-45b3-b36d-0855301dcaa4",
   "metadata": {},
   "outputs": [],
   "source": [
    "# Load SQuAD1.1 Dataset\n",
    "splits = {'train': 'plain_text/train-00000-of-00001.parquet', 'validation': 'plain_text/validation-00000-of-00001.parquet'}\n",
    "train_df = pd.read_parquet(\"hf://datasets/rajpurkar/squad/\" + splits[\"train\"])\n",
    "validation_df = pd.read_parquet(\"hf://datasets/rajpurkar/squad/\" + splits[\"validation\"])"
   ]
  },
  {
   "cell_type": "markdown",
   "id": "450972e0-bd46-49ea-bd8f-c8ffc29a666f",
   "metadata": {},
   "source": [
    "**Process Dataset**"
   ]
  },
  {
   "cell_type": "code",
   "execution_count": 5,
   "id": "a1c061e4-5827-487f-aa2e-9b1b6e84e167",
   "metadata": {},
   "outputs": [],
   "source": [
    "# Convert DataFrame to a list of dictionaries for batch processing\n",
    "train_data = train_df.to_dict(orient=\"records\")\n",
    "validation_data = validation_df.to_dict(orient=\"records\")\n",
    "\n",
    "# Create a PyTorch Dataset\n",
    "class QADataset(torch.utils.data.Dataset):\n",
    "    def __init__(self, input_ids, attention_mask, labels):\n",
    "        self.input_ids = input_ids\n",
    "        self.attention_mask = attention_mask\n",
    "        self.labels = labels\n",
    "\n",
    "    def __len__(self):\n",
    "        return len(self.input_ids)\n",
    "\n",
    "    def __getitem__(self, idx):\n",
    "        return {\n",
    "            \"input_ids\": self.input_ids[idx],\n",
    "            \"attention_mask\": self.attention_mask[idx],\n",
    "            \"labels\": self.labels[idx]\n",
    "        }\n",
    "\n",
    "# Preprocess data in batches\n",
    "def process_dataset(data, tokenizer):\n",
    "    processed_data = []\n",
    "    batch_size = 32\n",
    "\n",
    "    for i in range(0, len(data), batch_size):\n",
    "        batch = data[i:i+batch_size]\n",
    "        processed_batch = preprocess_batch(batch, tokenizer)\n",
    "        processed_data.append(processed_batch)\n",
    "\n",
    "    # Combine all processed batches into a single dataset\n",
    "    input_ids = torch.cat([batch[\"input_ids\"] for batch in processed_data])\n",
    "    attention_mask = torch.cat([batch[\"attention_mask\"] for batch in processed_data])\n",
    "    labels = torch.cat([batch[\"labels\"] for batch in processed_data])\n",
    "\n",
    "    dataset = QADataset(input_ids, attention_mask, labels)\n",
    "\n",
    "    return dataset\n",
    "\n",
    "train_dataset = process_dataset(train_data, student_tokenizer)\n",
    "validation_dataset = process_dataset(validation_data, student_tokenizer)\n",
    "\n",
    "train_loader = DataLoader(train_dataset, batch_size=4, shuffle=True)\n",
    "val_loader = DataLoader(validation_dataset, batch_size=4, shuffle=True)"
   ]
  },
  {
   "cell_type": "markdown",
   "id": "005ccac3-4cb4-4364-a013-1c25b0274b62",
   "metadata": {},
   "source": [
    "**Teacher Vocab is much larger than Students so need to configure a projection layer so both tensors will align**"
   ]
  },
  {
   "cell_type": "code",
   "execution_count": 6,
   "id": "81797ecd-a6c4-44eb-b3b8-61a8344c0554",
   "metadata": {},
   "outputs": [],
   "source": [
    "# Define a projection layer to align teacher logits with student logits\n",
    "class TeacherLogitProjection(nn.Module):\n",
    "    def __init__(self, teacher_vocab_size, student_vocab_size):\n",
    "        super(TeacherLogitProjection, self).__init__()\n",
    "        self.projection = nn.Linear(teacher_vocab_size, student_vocab_size)\n",
    "\n",
    "    def forward(self, teacher_logits):\n",
    "        return self.projection(teacher_logits)\n"
   ]
  },
  {
   "cell_type": "code",
   "execution_count": 7,
   "id": "428f4d24-2fdd-4e6b-9027-d1f179825ef3",
   "metadata": {},
   "outputs": [],
   "source": [
    "# Define Distillation Loss\n",
    "class DistillationLoss(nn.Module):\n",
    "    def __init__(self, alpha=0.5, temperature=2.0):\n",
    "        super(DistillationLoss, self).__init__()\n",
    "        self.alpha = alpha  # Weight for hard vs soft targets\n",
    "        self.temperature = temperature  # Temperature for softening logits\n",
    "        self.ce_loss = nn.CrossEntropyLoss()\n",
    "\n",
    "    def forward(self, student_logits, teacher_logits, labels):\n",
    "        # Softened teacher logits\n",
    "        teacher_probs = nn.functional.softmax(teacher_logits / self.temperature, dim=-1)\n",
    "        student_probs = nn.functional.log_softmax(student_logits / self.temperature, dim=-1)\n",
    "\n",
    "        # KL Divergence loss (soft targets)\n",
    "        distillation_loss = nn.functional.kl_div(student_probs, teacher_probs, reduction=\"batchmean\") * (self.temperature ** 2)\n",
    "\n",
    "        # Cross-entropy loss (hard targets)\n",
    "        ce_loss = self.ce_loss(student_logits.view(-1, student_logits.size(-1)), labels.view(-1))\n",
    "\n",
    "        return self.alpha * ce_loss + (1 - self.alpha) * distillation_loss"
   ]
  },
  {
   "cell_type": "markdown",
   "id": "d1bcd392-48e6-4d2a-bc97-6b0a149952e0",
   "metadata": {},
   "source": [
    "**Knowledge Distillation Function**"
   ]
  },
  {
   "cell_type": "code",
   "execution_count": 8,
   "id": "d12e03a0-d57c-48ae-bdb6-ff9486a6580c",
   "metadata": {},
   "outputs": [],
   "source": [
    "\n",
    "def train_student_with_distillation(teacher_model, student_model, train_loader, val_loader, epochs):\n",
    "    teacher_device = \"cpu\"  # Move teacher model to CPU\n",
    "    #student_device = torch.device(\"cuda\" if torch.cuda.is_available() else \"cpu\")\n",
    "    student_device = \"cuda\"  # Move student model to CPU\n",
    "    teacher_model.to(teacher_device)\n",
    "    student_model.to(student_device)\n",
    "\n",
    "    optimizer = torch.optim.AdamW(student_model.parameters(), lr=5e-5)\n",
    "    distillation_criterion = DistillationLoss(alpha=0.5, temperature=2.0)\n",
    "    scaler = GradScaler('cuda')  # Mixed precision scaler to reduce VRAM use\n",
    "\n",
    "    # Add projection layer for teacher logits\n",
    "    teacher_vocab_size = teacher_model.config.vocab_size\n",
    "    student_vocab_size = student_model.config.vocab_size\n",
    "    projection_layer = TeacherLogitProjection(teacher_vocab_size, student_vocab_size).to(teacher_device)\n",
    "    \n",
    "    for epoch in range(epochs):\n",
    "        student_model.train()\n",
    "        teacher_model.eval()\n",
    "\n",
    "        epoch_loss = 0\n",
    "\n",
    "        for batch in train_loader:\n",
    "            input_ids = batch[\"input_ids\"].to(student_device)\n",
    "            attention_mask = batch[\"attention_mask\"].to(student_device)\n",
    "            labels = batch[\"labels\"].to(student_device)\n",
    "\n",
    "            optimizer.zero_grad()\n",
    "\n",
    "            # Mixed precision context\n",
    "            with autocast('cuda'):\n",
    "                with torch.no_grad():\n",
    "                    teacher_outputs = teacher_model(input_ids=input_ids.to(teacher_device), attention_mask=attention_mask.to(teacher_device))\n",
    "                    teacher_logits = projection_layer(teacher_outputs.logits)\n",
    "                    projection_layer.to(student_device)\n",
    "\n",
    "                student_outputs = student_model(input_ids=input_ids, attention_mask=attention_mask)\n",
    "                student_logits = student_outputs.logits\n",
    "\n",
    "                loss = distillation_criterion(student_logits, teacher_logits, labels)\n",
    "\n",
    "            scaler.scale(loss).backward()  # Scale gradients\n",
    "            scaler.step(optimizer)  # Step optimizer\n",
    "            scaler.update()  # Update scaler\n",
    "\n",
    "            epoch_loss += loss.item()\n",
    "\n",
    "        print(f\"Epoch {epoch + 1}, Loss: {epoch_loss / len(train_loader)}\")\n"
   ]
  },
  {
   "cell_type": "code",
   "execution_count": 9,
   "id": "a1adcba7-0e41-4f08-a7e4-165591b14cfb",
   "metadata": {},
   "outputs": [
    {
     "ename": "OutOfMemoryError",
     "evalue": "CUDA out of memory. Tried to allocate 9.36 GiB. GPU 0 has a total capacity of 11.60 GiB of which 8.31 GiB is free. Including non-PyTorch memory, this process has 482.00 MiB memory in use. Of the allocated memory 278.11 MiB is allocated by PyTorch, and 11.89 MiB is reserved by PyTorch but unallocated. If reserved but unallocated memory is large try setting PYTORCH_CUDA_ALLOC_CONF=expandable_segments:True to avoid fragmentation.  See documentation for Memory Management  (https://pytorch.org/docs/stable/notes/cuda.html#environment-variables)",
     "output_type": "error",
     "traceback": [
      "\u001b[0;31m---------------------------------------------------------------------------\u001b[0m",
      "\u001b[0;31mOutOfMemoryError\u001b[0m                          Traceback (most recent call last)",
      "Cell \u001b[0;32mIn[9], line 2\u001b[0m\n\u001b[1;32m      1\u001b[0m \u001b[38;5;66;03m# Run Training\u001b[39;00m\n\u001b[0;32m----> 2\u001b[0m \u001b[43mtrain_student_with_distillation\u001b[49m\u001b[43m(\u001b[49m\n\u001b[1;32m      3\u001b[0m \u001b[43m    \u001b[49m\u001b[43mteacher_model\u001b[49m\u001b[43m,\u001b[49m\n\u001b[1;32m      4\u001b[0m \u001b[43m    \u001b[49m\u001b[43mstudent_model\u001b[49m\u001b[43m,\u001b[49m\n\u001b[1;32m      5\u001b[0m \u001b[43m    \u001b[49m\u001b[43mtrain_loader\u001b[49m\u001b[43m,\u001b[49m\n\u001b[1;32m      6\u001b[0m \u001b[43m    \u001b[49m\u001b[43mval_loader\u001b[49m\u001b[43m,\u001b[49m\n\u001b[1;32m      7\u001b[0m \u001b[43m    \u001b[49m\u001b[43mepochs\u001b[49m\u001b[38;5;241;43m=\u001b[39;49m\u001b[38;5;241;43m3\u001b[39;49m\n\u001b[1;32m      8\u001b[0m \u001b[43m)\u001b[49m\n",
      "Cell \u001b[0;32mIn[8], line 35\u001b[0m, in \u001b[0;36mtrain_student_with_distillation\u001b[0;34m(teacher_model, student_model, train_loader, val_loader, epochs)\u001b[0m\n\u001b[1;32m     33\u001b[0m     teacher_outputs \u001b[38;5;241m=\u001b[39m teacher_model(input_ids\u001b[38;5;241m=\u001b[39minput_ids\u001b[38;5;241m.\u001b[39mto(teacher_device), attention_mask\u001b[38;5;241m=\u001b[39mattention_mask\u001b[38;5;241m.\u001b[39mto(teacher_device))\n\u001b[1;32m     34\u001b[0m     teacher_logits \u001b[38;5;241m=\u001b[39m projection_layer(teacher_outputs\u001b[38;5;241m.\u001b[39mlogits)\n\u001b[0;32m---> 35\u001b[0m     \u001b[43mprojection_layer\u001b[49m\u001b[38;5;241;43m.\u001b[39;49m\u001b[43mto\u001b[49m\u001b[43m(\u001b[49m\u001b[43mstudent_device\u001b[49m\u001b[43m)\u001b[49m\n\u001b[1;32m     37\u001b[0m student_outputs \u001b[38;5;241m=\u001b[39m student_model(input_ids\u001b[38;5;241m=\u001b[39minput_ids, attention_mask\u001b[38;5;241m=\u001b[39mattention_mask)\n\u001b[1;32m     38\u001b[0m student_logits \u001b[38;5;241m=\u001b[39m student_outputs\u001b[38;5;241m.\u001b[39mlogits\n",
      "File \u001b[0;32m~/miniforge3/envs/PRML_Assign/lib/python3.12/site-packages/torch/nn/modules/module.py:1343\u001b[0m, in \u001b[0;36mModule.to\u001b[0;34m(self, *args, **kwargs)\u001b[0m\n\u001b[1;32m   1340\u001b[0m         \u001b[38;5;28;01melse\u001b[39;00m:\n\u001b[1;32m   1341\u001b[0m             \u001b[38;5;28;01mraise\u001b[39;00m\n\u001b[0;32m-> 1343\u001b[0m \u001b[38;5;28;01mreturn\u001b[39;00m \u001b[38;5;28;43mself\u001b[39;49m\u001b[38;5;241;43m.\u001b[39;49m\u001b[43m_apply\u001b[49m\u001b[43m(\u001b[49m\u001b[43mconvert\u001b[49m\u001b[43m)\u001b[49m\n",
      "File \u001b[0;32m~/miniforge3/envs/PRML_Assign/lib/python3.12/site-packages/torch/nn/modules/module.py:903\u001b[0m, in \u001b[0;36mModule._apply\u001b[0;34m(self, fn, recurse)\u001b[0m\n\u001b[1;32m    901\u001b[0m \u001b[38;5;28;01mif\u001b[39;00m recurse:\n\u001b[1;32m    902\u001b[0m     \u001b[38;5;28;01mfor\u001b[39;00m module \u001b[38;5;129;01min\u001b[39;00m \u001b[38;5;28mself\u001b[39m\u001b[38;5;241m.\u001b[39mchildren():\n\u001b[0;32m--> 903\u001b[0m         \u001b[43mmodule\u001b[49m\u001b[38;5;241;43m.\u001b[39;49m\u001b[43m_apply\u001b[49m\u001b[43m(\u001b[49m\u001b[43mfn\u001b[49m\u001b[43m)\u001b[49m\n\u001b[1;32m    905\u001b[0m \u001b[38;5;28;01mdef\u001b[39;00m \u001b[38;5;21mcompute_should_use_set_data\u001b[39m(tensor, tensor_applied):\n\u001b[1;32m    906\u001b[0m     \u001b[38;5;28;01mif\u001b[39;00m torch\u001b[38;5;241m.\u001b[39m_has_compatible_shallow_copy_type(tensor, tensor_applied):\n\u001b[1;32m    907\u001b[0m         \u001b[38;5;66;03m# If the new tensor has compatible tensor type as the existing tensor,\u001b[39;00m\n\u001b[1;32m    908\u001b[0m         \u001b[38;5;66;03m# the current behavior is to change the tensor in-place using `.data =`,\u001b[39;00m\n\u001b[0;32m   (...)\u001b[0m\n\u001b[1;32m    913\u001b[0m         \u001b[38;5;66;03m# global flag to let the user control whether they want the future\u001b[39;00m\n\u001b[1;32m    914\u001b[0m         \u001b[38;5;66;03m# behavior of overwriting the existing tensor or not.\u001b[39;00m\n",
      "File \u001b[0;32m~/miniforge3/envs/PRML_Assign/lib/python3.12/site-packages/torch/nn/modules/module.py:930\u001b[0m, in \u001b[0;36mModule._apply\u001b[0;34m(self, fn, recurse)\u001b[0m\n\u001b[1;32m    926\u001b[0m \u001b[38;5;66;03m# Tensors stored in modules are graph leaves, and we don't want to\u001b[39;00m\n\u001b[1;32m    927\u001b[0m \u001b[38;5;66;03m# track autograd history of `param_applied`, so we have to use\u001b[39;00m\n\u001b[1;32m    928\u001b[0m \u001b[38;5;66;03m# `with torch.no_grad():`\u001b[39;00m\n\u001b[1;32m    929\u001b[0m \u001b[38;5;28;01mwith\u001b[39;00m torch\u001b[38;5;241m.\u001b[39mno_grad():\n\u001b[0;32m--> 930\u001b[0m     param_applied \u001b[38;5;241m=\u001b[39m \u001b[43mfn\u001b[49m\u001b[43m(\u001b[49m\u001b[43mparam\u001b[49m\u001b[43m)\u001b[49m\n\u001b[1;32m    931\u001b[0m p_should_use_set_data \u001b[38;5;241m=\u001b[39m compute_should_use_set_data(param, param_applied)\n\u001b[1;32m    933\u001b[0m \u001b[38;5;66;03m# subclasses may have multiple child tensors so we need to use swap_tensors\u001b[39;00m\n",
      "File \u001b[0;32m~/miniforge3/envs/PRML_Assign/lib/python3.12/site-packages/torch/nn/modules/module.py:1329\u001b[0m, in \u001b[0;36mModule.to.<locals>.convert\u001b[0;34m(t)\u001b[0m\n\u001b[1;32m   1322\u001b[0m     \u001b[38;5;28;01mif\u001b[39;00m convert_to_format \u001b[38;5;129;01mis\u001b[39;00m \u001b[38;5;129;01mnot\u001b[39;00m \u001b[38;5;28;01mNone\u001b[39;00m \u001b[38;5;129;01mand\u001b[39;00m t\u001b[38;5;241m.\u001b[39mdim() \u001b[38;5;129;01min\u001b[39;00m (\u001b[38;5;241m4\u001b[39m, \u001b[38;5;241m5\u001b[39m):\n\u001b[1;32m   1323\u001b[0m         \u001b[38;5;28;01mreturn\u001b[39;00m t\u001b[38;5;241m.\u001b[39mto(\n\u001b[1;32m   1324\u001b[0m             device,\n\u001b[1;32m   1325\u001b[0m             dtype \u001b[38;5;28;01mif\u001b[39;00m t\u001b[38;5;241m.\u001b[39mis_floating_point() \u001b[38;5;129;01mor\u001b[39;00m t\u001b[38;5;241m.\u001b[39mis_complex() \u001b[38;5;28;01melse\u001b[39;00m \u001b[38;5;28;01mNone\u001b[39;00m,\n\u001b[1;32m   1326\u001b[0m             non_blocking,\n\u001b[1;32m   1327\u001b[0m             memory_format\u001b[38;5;241m=\u001b[39mconvert_to_format,\n\u001b[1;32m   1328\u001b[0m         )\n\u001b[0;32m-> 1329\u001b[0m     \u001b[38;5;28;01mreturn\u001b[39;00m \u001b[43mt\u001b[49m\u001b[38;5;241;43m.\u001b[39;49m\u001b[43mto\u001b[49m\u001b[43m(\u001b[49m\n\u001b[1;32m   1330\u001b[0m \u001b[43m        \u001b[49m\u001b[43mdevice\u001b[49m\u001b[43m,\u001b[49m\n\u001b[1;32m   1331\u001b[0m \u001b[43m        \u001b[49m\u001b[43mdtype\u001b[49m\u001b[43m \u001b[49m\u001b[38;5;28;43;01mif\u001b[39;49;00m\u001b[43m \u001b[49m\u001b[43mt\u001b[49m\u001b[38;5;241;43m.\u001b[39;49m\u001b[43mis_floating_point\u001b[49m\u001b[43m(\u001b[49m\u001b[43m)\u001b[49m\u001b[43m \u001b[49m\u001b[38;5;129;43;01mor\u001b[39;49;00m\u001b[43m \u001b[49m\u001b[43mt\u001b[49m\u001b[38;5;241;43m.\u001b[39;49m\u001b[43mis_complex\u001b[49m\u001b[43m(\u001b[49m\u001b[43m)\u001b[49m\u001b[43m \u001b[49m\u001b[38;5;28;43;01melse\u001b[39;49;00m\u001b[43m \u001b[49m\u001b[38;5;28;43;01mNone\u001b[39;49;00m\u001b[43m,\u001b[49m\n\u001b[1;32m   1332\u001b[0m \u001b[43m        \u001b[49m\u001b[43mnon_blocking\u001b[49m\u001b[43m,\u001b[49m\n\u001b[1;32m   1333\u001b[0m \u001b[43m    \u001b[49m\u001b[43m)\u001b[49m\n\u001b[1;32m   1334\u001b[0m \u001b[38;5;28;01mexcept\u001b[39;00m \u001b[38;5;167;01mNotImplementedError\u001b[39;00m \u001b[38;5;28;01mas\u001b[39;00m e:\n\u001b[1;32m   1335\u001b[0m     \u001b[38;5;28;01mif\u001b[39;00m \u001b[38;5;28mstr\u001b[39m(e) \u001b[38;5;241m==\u001b[39m \u001b[38;5;124m\"\u001b[39m\u001b[38;5;124mCannot copy out of meta tensor; no data!\u001b[39m\u001b[38;5;124m\"\u001b[39m:\n",
      "\u001b[0;31mOutOfMemoryError\u001b[0m: CUDA out of memory. Tried to allocate 9.36 GiB. GPU 0 has a total capacity of 11.60 GiB of which 8.31 GiB is free. Including non-PyTorch memory, this process has 482.00 MiB memory in use. Of the allocated memory 278.11 MiB is allocated by PyTorch, and 11.89 MiB is reserved by PyTorch but unallocated. If reserved but unallocated memory is large try setting PYTORCH_CUDA_ALLOC_CONF=expandable_segments:True to avoid fragmentation.  See documentation for Memory Management  (https://pytorch.org/docs/stable/notes/cuda.html#environment-variables)"
     ]
    }
   ],
   "source": [
    "# Run Training\n",
    "train_student_with_distillation(\n",
    "    teacher_model,\n",
    "    student_model,\n",
    "    train_loader,\n",
    "    val_loader,\n",
    "    epochs=3\n",
    ")"
   ]
  }
 ],
 "metadata": {
  "kernelspec": {
   "display_name": "PRML_Assign",
   "language": "python",
   "name": "python3"
  },
  "language_info": {
   "codemirror_mode": {
    "name": "ipython",
    "version": 3
   },
   "file_extension": ".py",
   "mimetype": "text/x-python",
   "name": "python",
   "nbconvert_exporter": "python",
   "pygments_lexer": "ipython3",
   "version": "3.12.3"
  }
 },
 "nbformat": 4,
 "nbformat_minor": 5
}
