{
 "cells": [
  {
   "cell_type": "code",
   "execution_count": 1,
   "id": "e4b11c4a-1b45-40e1-830f-4149f32bd6d2",
   "metadata": {},
   "outputs": [],
   "source": [
    "from transformers import AutoModelForQuestionAnswering, AutoTokenizer, Trainer, TrainingArguments\n",
    "from datasets import load_dataset\n",
    "from pprint import pprint\n",
    "from tqdm import tqdm\n",
    "import evaluate\n",
    "import torch\n",
    "\n",
    "debugging = True\n",
    "\n",
    "# Load the SQuAD dataset\n",
    "squad = load_dataset(\"squad\")\n",
    "\n",
    "\n",
    "# Print formatted records\n",
    "#pprint(train_dataset[:2])\n",
    "#pprint(validation_dataset[:2])\n"
   ]
  },
  {
   "cell_type": "code",
   "execution_count": 2,
   "id": "16b5ea52-3bed-4069-b51e-fa54127cdcef",
   "metadata": {},
   "outputs": [
    {
     "name": "stderr",
     "output_type": "stream",
     "text": [
      "Some weights of the model checkpoint at csarron/roberta-base-squad-v1 were not used when initializing RobertaForQuestionAnswering: ['roberta.pooler.dense.bias', 'roberta.pooler.dense.weight']\n",
      "- This IS expected if you are initializing RobertaForQuestionAnswering from the checkpoint of a model trained on another task or with another architecture (e.g. initializing a BertForSequenceClassification model from a BertForPreTraining model).\n",
      "- This IS NOT expected if you are initializing RobertaForQuestionAnswering from the checkpoint of a model that you expect to be exactly identical (initializing a BertForSequenceClassification model from a BertForSequenceClassification model).\n",
      "Some weights of RobertaForQuestionAnswering were not initialized from the model checkpoint at distilroberta-base and are newly initialized: ['qa_outputs.bias', 'qa_outputs.weight']\n",
      "You should probably TRAIN this model on a down-stream task to be able to use it for predictions and inference.\n"
     ]
    }
   ],
   "source": [
    "# Load teacher model and tokenizer\n",
    "teacher_model_name = \"csarron/roberta-base-squad-v1\"\n",
    "teacher_model = AutoModelForQuestionAnswering.from_pretrained(teacher_model_name)\n",
    "teacher_tokenizer = AutoTokenizer.from_pretrained(teacher_model_name)\n",
    "\n",
    "# Load student model and tokenizer (smaller version of RoBERTa)\n",
    "student_model_name = \"distilroberta-base\"  # Example smaller model\n",
    "student_model = AutoModelForQuestionAnswering.from_pretrained(student_model_name)\n",
    "student_tokenizer = AutoTokenizer.from_pretrained(student_model_name)"
   ]
  },
  {
   "cell_type": "code",
   "execution_count": 3,
   "id": "6de9a5d3-c578-4120-af5e-b0ee3bf4a35d",
   "metadata": {},
   "outputs": [],
   "source": [
    "# Define evaluation function\n",
    "def evaluate_model(model, tokenizer, dataset):\n",
    "    metric = evaluate.load(\"squad\")\n",
    "    predictions = []\n",
    "    references = []\n",
    "\n",
    "    for example in tqdm(dataset, desc=\"Evaluating\"):\n",
    "        # Tokenize inputs\n",
    "        inputs = tokenizer(\n",
    "            example[\"context\"], example[\"question\"], truncation=True, padding=True, return_tensors=\"pt\"\n",
    "        )\n",
    "        \n",
    "        # Get model outputs\n",
    "        outputs = model(**inputs)\n",
    "        start_logits, end_logits = outputs.start_logits, outputs.end_logits\n",
    "        start_idx = torch.argmax(start_logits, dim=-1).item()\n",
    "        end_idx = torch.argmax(end_logits, dim=-1).item()\n",
    "        \n",
    "        # Decode prediction\n",
    "        prediction = tokenizer.decode(inputs[\"input_ids\"][0][start_idx:end_idx + 1])\n",
    "        \n",
    "        # Append to predictions\n",
    "        predictions.append({\n",
    "            \"id\": example[\"id\"],\n",
    "            \"prediction_text\": prediction\n",
    "        })\n",
    "\n",
    "        # Append to references (ground truth)\n",
    "        references.append({\n",
    "            \"id\": example[\"id\"],\n",
    "            \"answers\": example[\"answers\"]\n",
    "        })\n",
    "\n",
    "    # Debugging: Print a couple of predictions and references\n",
    "    #pprint(predictions[:2])\n",
    "    #pprint(references[:2])\n",
    "\n",
    "    # Compute metrics\n",
    "    result = metric.compute(predictions=predictions, references=references)\n",
    "    print(f\"Exact Match: {result['exact_match']:.2f}%\")\n",
    "    print(f\"F1 Score: {result['f1']:.2f}%\\n\")\n",
    "    \n",
    "    return result"
   ]
  },
  {
   "cell_type": "code",
   "execution_count": 4,
   "id": "c99cdd0b-7def-4d6a-89c4-7710dd4ddc3d",
   "metadata": {},
   "outputs": [
    {
     "name": "stdout",
     "output_type": "stream",
     "text": [
      "Teacher Model Evaluation\n"
     ]
    },
    {
     "name": "stderr",
     "output_type": "stream",
     "text": [
      "Evaluating: 100%|██████████| 100/100 [00:05<00:00, 18.88it/s]\n"
     ]
    },
    {
     "name": "stdout",
     "output_type": "stream",
     "text": [
      "Exact Match: 64.00%\n",
      "F1 Score: 68.10%\n",
      "\n",
      "Student Model Evaluation (Before Distillation)\n"
     ]
    },
    {
     "name": "stderr",
     "output_type": "stream",
     "text": [
      "Evaluating: 100%|██████████| 100/100 [00:02<00:00, 37.29it/s]"
     ]
    },
    {
     "name": "stdout",
     "output_type": "stream",
     "text": [
      "Exact Match: 0.00%\n",
      "F1 Score: 1.67%\n",
      "\n"
     ]
    },
    {
     "name": "stderr",
     "output_type": "stream",
     "text": [
      "\n"
     ]
    },
    {
     "data": {
      "text/plain": [
       "{'exact_match': 0.0, 'f1': 1.6675498158256774}"
      ]
     },
     "execution_count": 4,
     "metadata": {},
     "output_type": "execute_result"
    }
   ],
   "source": [
    "# Evaluate teacher model on validation set\n",
    "\n",
    "#validation_set = squad[\"validation\"].shuffle(seed=42).select(range(500)).with_format(\"torch\")\n",
    "validation_dataset = squad[\"validation\"]\n",
    "\n",
    "if debugging: \n",
    "    validation_set = validation_dataset.select(range(100))\n",
    "    validation_dataset = validation_set\n",
    "\n",
    "print(\"Teacher Model Evaluation\")\n",
    "evaluate_model(teacher_model, teacher_tokenizer, validation_dataset)\n",
    "\n",
    "# Evaluate student model on validation set (before distillation)\n",
    "print(\"Student Model Evaluation (Before Distillation)\")\n",
    "evaluate_model(student_model, student_tokenizer, validation_dataset)\n",
    "\n"
   ]
  },
  {
   "cell_type": "code",
   "execution_count": null,
   "id": "9857eec0-4fd0-489f-82bf-8963125fbfa4",
   "metadata": {},
   "outputs": [],
   "source": [
    "# Prepare data for distillation\n",
    "def preprocess_data(example):\n",
    "    inputs = teacher_tokenizer(\n",
    "        example[\"context\"], example[\"question\"], truncation=True, padding=True, return_tensors=\"pt\"\n",
    "    )\n",
    "    with torch.no_grad():\n",
    "        outputs = teacher_model(**inputs)\n",
    "    example[\"input_ids\"] = inputs[\"input_ids\"][0]\n",
    "    example[\"attention_mask\"] = inputs[\"attention_mask\"][0]\n",
    "    example[\"start_logits\"] = outputs.start_logits[0]\n",
    "    example[\"end_logits\"] = outputs.end_logits[0]\n",
    "    return example\n",
    "\n",
    "train_dataset = squad[\"train\"].shuffle(seed=42).select(range(8000)).with_format(\"torch\").map(preprocess_data)\n",
    "\n",
    "# Define training arguments for student model\n",
    "training_args = TrainingArguments(\n",
    "    output_dir=\"./results\",\n",
    "    evaluation_strategy=\"epoch\",\n",
    "    learning_rate=2e-5,\n",
    "    per_device_train_batch_size=16,\n",
    "    num_train_epochs=3,\n",
    "    weight_decay=0.01,\n",
    "    save_total_limit=2,\n",
    ")"
   ]
  },
  {
   "cell_type": "code",
   "execution_count": null,
   "id": "c406a9b4-d143-4879-8451-cf27c3fdb85b",
   "metadata": {},
   "outputs": [],
   "source": [
    "# Define custom loss function for knowledge distillation\n",
    "class DistillationTrainer(Trainer):\n",
    "    def compute_loss(self, model, inputs, return_outputs=False):\n",
    "        outputs = model(input_ids=inputs[\"input_ids\"], attention_mask=inputs[\"attention_mask\"])\n",
    "        start_loss = torch.nn.functional.kl_div(\n",
    "            torch.nn.functional.log_softmax(outputs.start_logits, dim=-1),\n",
    "            torch.nn.functional.softmax(inputs[\"start_logits\"], dim=-1),\n",
    "            reduction=\"batchmean\"\n",
    "        )\n",
    "        end_loss = torch.nn.functional.kl_div(\n",
    "            torch.nn.functional.log_softmax(outputs.end_logits, dim=-1),\n",
    "            torch.nn.functional.softmax(inputs[\"end_logits\"], dim=-1),\n",
    "            reduction=\"batchmean\"\n",
    "        )\n",
    "        loss = (start_loss + end_loss) / 2\n",
    "        return (loss, outputs) if return_outputs else loss"
   ]
  },
  {
   "cell_type": "code",
   "execution_count": null,
   "id": "c23b0b41-e3c9-49ec-aec1-d9fc760afac4",
   "metadata": {},
   "outputs": [],
   "source": [
    "# Train the student model using the custom trainer\n",
    "trainer = DistillationTrainer(\n",
    "    model=student_model,\n",
    "    args=training_args,\n",
    "    train_dataset=train_dataset,\n",
    ")\n",
    "\n",
    "trainer.train()"
   ]
  },
  {
   "cell_type": "code",
   "execution_count": null,
   "id": "58311f7e-cd7f-4e43-9b53-42222f0b4d7a",
   "metadata": {},
   "outputs": [],
   "source": [
    "# Evaluate student model after distillation\n",
    "student_eval_results_after = evaluate_model(student_model, student_tokenizer, validation_set)\n",
    "print(\"Student Model Evaluation (After Distillation):\", student_eval_results_after)"
   ]
  }
 ],
 "metadata": {
  "kernelspec": {
   "display_name": "Python 3 (ipykernel)",
   "language": "python",
   "name": "python3"
  },
  "language_info": {
   "codemirror_mode": {
    "name": "ipython",
    "version": 3
   },
   "file_extension": ".py",
   "mimetype": "text/x-python",
   "name": "python",
   "nbconvert_exporter": "python",
   "pygments_lexer": "ipython3",
   "version": "3.11.10"
  }
 },
 "nbformat": 4,
 "nbformat_minor": 5
}
