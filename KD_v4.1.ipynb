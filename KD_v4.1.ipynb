{
 "cells": [
  {
   "cell_type": "code",
   "execution_count": 1,
   "id": "e4b11c4a-1b45-40e1-830f-4149f32bd6d2",
   "metadata": {},
   "outputs": [
    {
     "name": "stdout",
     "output_type": "stream",
     "text": [
      "Device: cuda\n"
     ]
    }
   ],
   "source": [
    "from transformers import AutoModelForQuestionAnswering, AutoTokenizer, Trainer, TrainingArguments, DataCollatorWithPadding\n",
    "from datasets import load_dataset\n",
    "from pprint import pprint\n",
    "from tqdm import tqdm\n",
    "import evaluate\n",
    "import torch\n",
    "\n",
    "debugging = True\n",
    "device = torch.device(\"cuda\" if torch.cuda.is_available() else \"cpu\")\n",
    "print(f\"Device: {device}\")\n",
    "\n",
    "# Load the SQuAD dataset\n",
    "squad = load_dataset(\"squad\")\n",
    "\n",
    "\n",
    "# Print formatted records\n",
    "#pprint(train_dataset[:2])\n",
    "#pprint(validation_dataset[:2])\n"
   ]
  },
  {
   "cell_type": "code",
   "execution_count": 2,
   "id": "16b5ea52-3bed-4069-b51e-fa54127cdcef",
   "metadata": {},
   "outputs": [
    {
     "name": "stderr",
     "output_type": "stream",
     "text": [
      "Some weights of the model checkpoint at csarron/roberta-base-squad-v1 were not used when initializing RobertaForQuestionAnswering: ['roberta.pooler.dense.bias', 'roberta.pooler.dense.weight']\n",
      "- This IS expected if you are initializing RobertaForQuestionAnswering from the checkpoint of a model trained on another task or with another architecture (e.g. initializing a BertForSequenceClassification model from a BertForPreTraining model).\n",
      "- This IS NOT expected if you are initializing RobertaForQuestionAnswering from the checkpoint of a model that you expect to be exactly identical (initializing a BertForSequenceClassification model from a BertForSequenceClassification model).\n",
      "Some weights of RobertaForQuestionAnswering were not initialized from the model checkpoint at distilroberta-base and are newly initialized: ['qa_outputs.bias', 'qa_outputs.weight']\n",
      "You should probably TRAIN this model on a down-stream task to be able to use it for predictions and inference.\n"
     ]
    }
   ],
   "source": [
    "# Load teacher model and tokenizer\n",
    "teacher_model_name = \"csarron/roberta-base-squad-v1\"\n",
    "teacher_model = AutoModelForQuestionAnswering.from_pretrained(teacher_model_name)\n",
    "teacher_tokenizer = AutoTokenizer.from_pretrained(teacher_model_name)\n",
    "\n",
    "# Load student model and tokenizer (smaller version of RoBERTa)\n",
    "student_model_name = \"distilroberta-base\"  # Example smaller model\n",
    "student_model = AutoModelForQuestionAnswering.from_pretrained(student_model_name)\n",
    "student_tokenizer = AutoTokenizer.from_pretrained(student_model_name)"
   ]
  },
  {
   "cell_type": "code",
   "execution_count": 3,
   "id": "6de9a5d3-c578-4120-af5e-b0ee3bf4a35d",
   "metadata": {},
   "outputs": [],
   "source": [
    "# Define evaluation function\n",
    "def evaluate_model(model, tokenizer, dataset):\n",
    "    model.to(device)\n",
    "    \n",
    "    metric = evaluate.load(\"squad\")\n",
    "    predictions = []\n",
    "    references = []\n",
    "\n",
    "    for example in tqdm(dataset, desc=\"Evaluating\"):\n",
    "        # Tokenize inputs\n",
    "        inputs = tokenizer(\n",
    "            example[\"context\"], example[\"question\"], truncation=True, padding=True, return_tensors=\"pt\"\n",
    "        )\n",
    "\n",
    "        # Move inputs to the same device as the model\n",
    "        inputs = {key: value.to(device) for key, value in inputs.items()}\n",
    "        \n",
    "        # Get model outputs\n",
    "        outputs = model(**inputs)\n",
    "        start_logits, end_logits = outputs.start_logits, outputs.end_logits\n",
    "        start_idx = torch.argmax(start_logits, dim=-1).item()\n",
    "        end_idx = torch.argmax(end_logits, dim=-1).item()\n",
    "        \n",
    "        # Decode prediction\n",
    "        prediction = tokenizer.decode(inputs[\"input_ids\"][0][start_idx:end_idx + 1])\n",
    "        \n",
    "        # Append to predictions\n",
    "        predictions.append({\n",
    "            \"id\": example[\"id\"],\n",
    "            \"prediction_text\": prediction\n",
    "        })\n",
    "\n",
    "        # Append to references (ground truth)\n",
    "        references.append({\n",
    "            \"id\": example[\"id\"],\n",
    "            \"answers\": example[\"answers\"]\n",
    "        })\n",
    "\n",
    "    # Debugging: Print a couple of predictions and references\n",
    "    #pprint(predictions[:2])\n",
    "    #pprint(references[:2])\n",
    "\n",
    "    # Compute metrics\n",
    "    result = metric.compute(predictions=predictions, references=references)\n",
    "    print(f\"Exact Match: {result['exact_match']:.2f}%\")\n",
    "    print(f\"F1 Score: {result['f1']:.2f}%\\n\")\n",
    "    \n",
    "    return result"
   ]
  },
  {
   "cell_type": "code",
   "execution_count": 4,
   "id": "b2d7aebd-b439-4eee-b31f-4d27cd5f75a2",
   "metadata": {},
   "outputs": [],
   "source": [
    "def preprocess_validation_data(example):\n",
    "    # Tokenize context and question\n",
    "    inputs = student_tokenizer(\n",
    "        example[\"context\"],\n",
    "        example[\"question\"],\n",
    "        truncation=True,\n",
    "        padding=\"max_length\",\n",
    "        max_length=384,\n",
    "    )\n",
    "    return inputs"
   ]
  },
  {
   "cell_type": "code",
   "execution_count": 5,
   "id": "c99cdd0b-7def-4d6a-89c4-7710dd4ddc3d",
   "metadata": {},
   "outputs": [
    {
     "name": "stdout",
     "output_type": "stream",
     "text": [
      "Teacher Model Evaluation\n"
     ]
    },
    {
     "name": "stderr",
     "output_type": "stream",
     "text": [
      "Evaluating: 100%|██████████| 500/500 [00:06<00:00, 77.23it/s]\n"
     ]
    },
    {
     "name": "stdout",
     "output_type": "stream",
     "text": [
      "Exact Match: 62.40%\n",
      "F1 Score: 65.77%\n",
      "\n",
      "Student Model Evaluation (Before Distillation)\n"
     ]
    },
    {
     "name": "stderr",
     "output_type": "stream",
     "text": [
      "Evaluating: 100%|██████████| 500/500 [00:03<00:00, 132.91it/s]\n"
     ]
    },
    {
     "name": "stdout",
     "output_type": "stream",
     "text": [
      "Exact Match: 0.00%\n",
      "F1 Score: 1.65%\n",
      "\n"
     ]
    },
    {
     "data": {
      "text/plain": [
       "{'exact_match': 0.0, 'f1': 1.6457768486866076}"
      ]
     },
     "execution_count": 5,
     "metadata": {},
     "output_type": "execute_result"
    }
   ],
   "source": [
    "# Evaluate teacher model on validation set\n",
    "\n",
    "#validation_set = squad[\"validation\"].shuffle(seed=42).select(range(500)).with_format(\"torch\")\n",
    "validation_dataset = squad[\"validation\"]\n",
    "\n",
    "if debugging: \n",
    "    validation_set = validation_dataset.select(range(500))\n",
    "    validation_dataset = validation_set\n",
    "\n",
    "print(\"Teacher Model Evaluation\")\n",
    "#print(\"EVAL HERE\")\n",
    "evaluate_model(teacher_model, teacher_tokenizer, validation_dataset)\n",
    "\n",
    "# Evaluate student model on validation set (before distillation)\n",
    "print(\"Student Model Evaluation (Before Distillation)\")\n",
    "#print(\"EVAL HERE\")\n",
    "evaluate_model(student_model, student_tokenizer, validation_dataset)\n",
    "\n"
   ]
  },
  {
   "cell_type": "code",
   "execution_count": 7,
   "id": "9857eec0-4fd0-489f-82bf-8963125fbfa4",
   "metadata": {},
   "outputs": [
    {
     "data": {
      "application/vnd.jupyter.widget-view+json": {
       "model_id": "0ab7c13251ce49bebac32694dbe99ac3",
       "version_major": 2,
       "version_minor": 0
      },
      "text/plain": [
       "Map:   0%|          | 0/5000 [00:00<?, ? examples/s]"
      ]
     },
     "metadata": {},
     "output_type": "display_data"
    },
    {
     "name": "stdout",
     "output_type": "stream",
     "text": [
      "-4.0770039558410645\n",
      "-4.626537322998047\n"
     ]
    },
    {
     "data": {
      "application/vnd.jupyter.widget-view+json": {
       "model_id": "bf9603b34271438ead276d695a4b681f",
       "version_major": 2,
       "version_minor": 0
      },
      "text/plain": [
       "Map:   0%|          | 0/500 [00:00<?, ? examples/s]"
      ]
     },
     "metadata": {},
     "output_type": "display_data"
    }
   ],
   "source": [
    "# Prepare data for distillation\n",
    "def preprocess_data(example):\n",
    "\n",
    "    # Move teacher model to appropriate device\n",
    "    teacher_model.to(device)\n",
    "    \n",
    "    # Tokenize context and question\n",
    "    inputs = teacher_tokenizer(\n",
    "        example[\"context\"], \n",
    "        example[\"question\"], \n",
    "        truncation=True, \n",
    "        padding=\"max_length\", \n",
    "        max_length=384,\n",
    "        return_tensors=\"pt\"\n",
    "    )\n",
    "\n",
    "    # Move inputs to the same device as the teacher model\n",
    "    inputs = {key: value.to(device) for key, value in inputs.items()}\n",
    "    \n",
    "    # Get logits from the teacher model\n",
    "    with torch.no_grad():\n",
    "        outputs = teacher_model(**inputs)\n",
    "    \n",
    "    # Add teacher logits to the example\n",
    "    example[\"input_ids\"] = inputs[\"input_ids\"][0].cpu().tolist()\n",
    "    example[\"attention_mask\"] = inputs[\"attention_mask\"][0].cpu().tolist()\n",
    "    example[\"start_logits\"] = outputs.start_logits[0].cpu().tolist()\n",
    "    example[\"end_logits\"] = outputs.end_logits[0].cpu().tolist()\n",
    "    \n",
    "    return example\n",
    "\n",
    "if debugging: \n",
    "    train_dataset = squad[\"train\"].select(range(5000)).map(preprocess_data)\n",
    "else:\n",
    "    train_dataset = squad[\"train\"].map(preprocess_data)    \n",
    "\n",
    "pprint(train_dataset[0]['end_logits'][0])\n",
    "pprint(train_dataset[0]['start_logits'][0])\n",
    "# Apply preprocessing to validation dataset\n",
    "validation_set = validation_dataset.map(preprocess_validation_data, batched=True)\n",
    "\n",
    "# Define training arguments for student model\n",
    "training_args = TrainingArguments(\n",
    "    output_dir=\"./results\",\n",
    "    eval_strategy=\"epoch\",\n",
    "    logging_steps=10,          # Log every 10 steps need when using small datasets for testing\n",
    "    learning_rate=2e-5,\n",
    "    per_device_train_batch_size=16,\n",
    "    num_train_epochs=3,\n",
    "    weight_decay=0.01,\n",
    "    save_total_limit=2,\n",
    "    remove_unused_columns=False,\n",
    ")"
   ]
  },
  {
   "cell_type": "code",
   "execution_count": 8,
   "id": "c406a9b4-d143-4879-8451-cf27c3fdb85b",
   "metadata": {},
   "outputs": [],
   "source": [
    "# Define custom loss function for knowledge distillation\n",
    "class DistillationTrainer(Trainer):\n",
    "\n",
    "#    def evaluate(self, eval_dataset=None, ignore_keys=None, metric_key_prefix: str = \"eval\"):\n",
    "#        # Ensure validation loss is computed and logged\n",
    "#        self.args.prediction_loss_only = False\n",
    "#        return super().evaluate(eval_dataset, ignore_keys, metric_key_prefix)\n",
    "    \n",
    "    def compute_loss(self, model, inputs, return_outputs=False, **kwargs):\n",
    "        \"\"\"\n",
    "        Custom loss function for knowledge distillation.\n",
    "        \"\"\"\n",
    "        #print(inputs.keys())  # Debug: Check what keys are present in inputs\n",
    "        \n",
    "        # Forward pass\n",
    "        outputs = model(input_ids=inputs[\"input_ids\"], attention_mask=inputs[\"attention_mask\"])\n",
    "        \n",
    "        # Compute KL Divergence loss between teacher and student logits\n",
    "        start_loss = torch.nn.functional.kl_div(\n",
    "            torch.nn.functional.log_softmax(outputs.start_logits, dim=-1),\n",
    "            torch.nn.functional.softmax(inputs[\"start_logits\"], dim=-1),\n",
    "            reduction=\"batchmean\"\n",
    "        )\n",
    "        end_loss = torch.nn.functional.kl_div(\n",
    "            torch.nn.functional.log_softmax(outputs.end_logits, dim=-1),\n",
    "            torch.nn.functional.softmax(inputs[\"end_logits\"], dim=-1),\n",
    "            reduction=\"batchmean\"\n",
    "        )\n",
    "        \n",
    "        # Average the start and end losses\n",
    "        loss = (start_loss + end_loss) / 2\n",
    "        \n",
    "        return (loss, outputs) if return_outputs else loss"
   ]
  },
  {
   "cell_type": "code",
   "execution_count": 9,
   "id": "377a49a4-a83b-4f49-a9a5-718fb9e9d7df",
   "metadata": {},
   "outputs": [],
   "source": [
    "class FullyCustomDataCollator:\n",
    "    def __init__(self, tokenizer):\n",
    "        self.tokenizer = tokenizer\n",
    "\n",
    "    def __call__(self, features):\n",
    "        # Filter out non-tokenized fields before padding\n",
    "        tokenized_features = [\n",
    "            {k: v for k, v in f.items() if k in [\"input_ids\", \"attention_mask\", \"token_type_ids\"]}\n",
    "            for f in features\n",
    "        ]\n",
    "\n",
    "        # Dynamically pad input_ids and attention_mask using the tokenizer\n",
    "        batch = self.tokenizer.pad(\n",
    "            tokenized_features,\n",
    "            padding=True,\n",
    "            max_length=None,\n",
    "            return_tensors=\"pt\",\n",
    "        )\n",
    "\n",
    "        # Add custom fields (e.g., start_logits and end_logits) to the batch\n",
    "        if \"start_logits\" in features[0]:\n",
    "            batch[\"start_logits\"] = torch.tensor([f[\"start_logits\"] for f in features], dtype=torch.float32)\n",
    "        if \"end_logits\" in features[0]:\n",
    "            batch[\"end_logits\"] = torch.tensor([f[\"end_logits\"] for f in features], dtype=torch.float32)\n",
    "\n",
    "        return batch\n",
    "\n"
   ]
  },
  {
   "cell_type": "code",
   "execution_count": 10,
   "id": "02f88f2f-979d-477b-8df2-049e31e1f84f",
   "metadata": {},
   "outputs": [],
   "source": [
    "data_collator = FullyCustomDataCollator(tokenizer=student_tokenizer)"
   ]
  },
  {
   "cell_type": "code",
   "execution_count": 11,
   "id": "a891ee9b-3f3b-4f9c-b035-b37ccade6376",
   "metadata": {},
   "outputs": [
    {
     "name": "stderr",
     "output_type": "stream",
     "text": [
      "You're using a RobertaTokenizerFast tokenizer. Please note that with a fast tokenizer, using the `__call__` method is faster than using a method to encode the text followed by a call to the `pad` method to get a padded encoding.\n"
     ]
    },
    {
     "data": {
      "text/html": [
       "\n",
       "    <div>\n",
       "      \n",
       "      <progress value='471' max='471' style='width:300px; height:20px; vertical-align: middle;'></progress>\n",
       "      [471/471 01:31, Epoch 3/3]\n",
       "    </div>\n",
       "    <table border=\"1\" class=\"dataframe\">\n",
       "  <thead>\n",
       " <tr style=\"text-align: left;\">\n",
       "      <th>Epoch</th>\n",
       "      <th>Training Loss</th>\n",
       "      <th>Validation Loss</th>\n",
       "    </tr>\n",
       "  </thead>\n",
       "  <tbody>\n",
       "    <tr>\n",
       "      <td>1</td>\n",
       "      <td>1.328900</td>\n",
       "      <td>No log</td>\n",
       "    </tr>\n",
       "    <tr>\n",
       "      <td>2</td>\n",
       "      <td>0.964800</td>\n",
       "      <td>No log</td>\n",
       "    </tr>\n",
       "    <tr>\n",
       "      <td>3</td>\n",
       "      <td>0.819400</td>\n",
       "      <td>No log</td>\n",
       "    </tr>\n",
       "  </tbody>\n",
       "</table><p>"
      ],
      "text/plain": [
       "<IPython.core.display.HTML object>"
      ]
     },
     "metadata": {},
     "output_type": "display_data"
    },
    {
     "data": {
      "text/plain": [
       "TrainOutput(global_step=471, training_loss=1.3558954332031767, metrics={'train_runtime': 92.262, 'train_samples_per_second': 162.58, 'train_steps_per_second': 5.105, 'total_flos': 1469847375360000.0, 'train_loss': 1.3558954332031767, 'epoch': 3.0})"
      ]
     },
     "execution_count": 11,
     "metadata": {},
     "output_type": "execute_result"
    }
   ],
   "source": [
    "# Train the student model using the custom trainer\n",
    "trainer = DistillationTrainer(\n",
    "    model=student_model,\n",
    "    args=training_args,\n",
    "    train_dataset=train_dataset,\n",
    "    eval_dataset=validation_set,\n",
    "    data_collator=data_collator,\n",
    ")\n",
    "\n",
    "trainer.train()"
   ]
  },
  {
   "cell_type": "code",
   "execution_count": 12,
   "id": "58311f7e-cd7f-4e43-9b53-42222f0b4d7a",
   "metadata": {},
   "outputs": [
    {
     "name": "stdout",
     "output_type": "stream",
     "text": [
      "Student Model Evaluation after Distillation\n"
     ]
    },
    {
     "name": "stderr",
     "output_type": "stream",
     "text": [
      "Evaluating: 100%|██████████| 500/500 [00:03<00:00, 131.87it/s]\n"
     ]
    },
    {
     "name": "stdout",
     "output_type": "stream",
     "text": [
      "Exact Match: 58.60%\n",
      "F1 Score: 63.76%\n",
      "\n"
     ]
    },
    {
     "data": {
      "text/plain": [
       "{'exact_match': 58.6, 'f1': 63.75826843240093}"
      ]
     },
     "execution_count": 12,
     "metadata": {},
     "output_type": "execute_result"
    }
   ],
   "source": [
    "# Evaluate student model on validation set after distillation\n",
    "print(\"Student Model Evaluation after Distillation\")\n",
    "#print(\"EVAL HERE\")\n",
    "evaluate_model(student_model, student_tokenizer, validation_dataset)"
   ]
  }
 ],
 "metadata": {
  "kernelspec": {
   "display_name": "Python 3 (ipykernel)",
   "language": "python",
   "name": "python3"
  },
  "language_info": {
   "codemirror_mode": {
    "name": "ipython",
    "version": 3
   },
   "file_extension": ".py",
   "mimetype": "text/x-python",
   "name": "python",
   "nbconvert_exporter": "python",
   "pygments_lexer": "ipython3",
   "version": "3.11.10"
  }
 },
 "nbformat": 4,
 "nbformat_minor": 5
}
