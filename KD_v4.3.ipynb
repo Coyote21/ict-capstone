{
 "cells": [
  {
   "cell_type": "code",
   "execution_count": 1,
   "id": "e4b11c4a-1b45-40e1-830f-4149f32bd6d2",
   "metadata": {},
   "outputs": [],
   "source": [
    "from transformers import AutoModelForQuestionAnswering, AutoTokenizer, Trainer, TrainingArguments\n",
    "from datasets import load_dataset\n",
    "from pprint import pprint\n",
    "from tqdm import tqdm\n",
    "import evaluate\n",
    "import torch\n",
    "import logging\n",
    "\n",
    "# Suppress specific Hugging Face logging messages\n",
    "transformers_logger = logging.getLogger(\"transformers\")\n",
    "transformers_logger.setLevel(logging.ERROR)\n",
    "\n",
    "debugging = True\n",
    "device = torch.device(\"cuda\" if torch.cuda.is_available() else \"cpu\")\n",
    " \n",
    "loss_per_epoch = []        # Loss per Epoch\n",
    "exact_match_before = 0     # Exact Match score before distillation\n",
    "exact_match_after = 0      # Exact Match score after distillation\n",
    "f1_score_before = 0        # F1 score before distillation\n",
    "f1_score_after = 0         # F1 score after distillation\n",
    "\n",
    "# Load the SQuAD dataset\n",
    "squad = load_dataset(\"squad\")\n"
   ]
  },
  {
   "cell_type": "code",
   "execution_count": 2,
   "id": "16b5ea52-3bed-4069-b51e-fa54127cdcef",
   "metadata": {},
   "outputs": [],
   "source": [
    "# Load teacher model and tokenizer\n",
    "teacher_model_name = \"csarron/roberta-base-squad-v1\"\n",
    "teacher_model = AutoModelForQuestionAnswering.from_pretrained(teacher_model_name)\n",
    "teacher_tokenizer = AutoTokenizer.from_pretrained(teacher_model_name)\n",
    "\n",
    "# Should do a training pass on SQuAD1.1 to initialise the weights in the Teacher model.\n",
    "# This will also stop the warning from displaying\n",
    "\n",
    "# Load student model and tokenizer (smaller version of RoBERTa)\n",
    "student_model_name = \"distilroberta-base\"  # Example smaller model\n",
    "student_model = AutoModelForQuestionAnswering.from_pretrained(student_model_name)\n",
    "student_tokenizer = AutoTokenizer.from_pretrained(student_model_name)"
   ]
  },
  {
   "cell_type": "code",
   "execution_count": 3,
   "id": "6de9a5d3-c578-4120-af5e-b0ee3bf4a35d",
   "metadata": {},
   "outputs": [],
   "source": [
    "# Define evaluation function\n",
    "def evaluate_model(model, tokenizer, dataset):\n",
    "    model.to(device)\n",
    "    \n",
    "    metric = evaluate.load(\"squad\")\n",
    "    predictions = []\n",
    "    references = []\n",
    "\n",
    "    for example in tqdm(dataset, desc=\"Evaluating\"):\n",
    "        # Tokenize inputs\n",
    "        inputs = tokenizer(\n",
    "            example[\"context\"], example[\"question\"], truncation=True, padding=True, return_tensors=\"pt\"\n",
    "        )\n",
    "\n",
    "        # Move inputs to the same device as the model\n",
    "        inputs = {key: value.to(device) for key, value in inputs.items()}\n",
    "        \n",
    "        # Get model outputs\n",
    "        outputs = model(**inputs)\n",
    "        start_logits, end_logits = outputs.start_logits, outputs.end_logits\n",
    "        start_idx = torch.argmax(start_logits, dim=-1).item()\n",
    "        end_idx = torch.argmax(end_logits, dim=-1).item()\n",
    "        \n",
    "        # Decode prediction\n",
    "        prediction = tokenizer.decode(inputs[\"input_ids\"][0][start_idx:end_idx + 1])\n",
    "        \n",
    "        # Append to predictions\n",
    "        predictions.append({\n",
    "            \"id\": example[\"id\"],\n",
    "            \"prediction_text\": prediction\n",
    "        })\n",
    "\n",
    "        # Append to references (ground truth)\n",
    "        references.append({\n",
    "            \"id\": example[\"id\"],\n",
    "            \"answers\": example[\"answers\"]\n",
    "        })\n",
    "\n",
    "    # Compute metrics\n",
    "    result = metric.compute(predictions=predictions, references=references)\n",
    "    print(f\"Exact Match: {result['exact_match']:.2f}%\")\n",
    "    print(f\"F1 Score: {result['f1']:.2f}%\\n\")\n",
    "    \n",
    "    return result"
   ]
  },
  {
   "cell_type": "code",
   "execution_count": 4,
   "id": "b2d7aebd-b439-4eee-b31f-4d27cd5f75a2",
   "metadata": {},
   "outputs": [],
   "source": [
    "def preprocess_validation_data(example):\n",
    "    # Tokenize context and question\n",
    "    inputs = student_tokenizer(\n",
    "        example[\"context\"],\n",
    "        example[\"question\"],\n",
    "        truncation=True,\n",
    "        padding=\"max_length\",\n",
    "        max_length=384,\n",
    "    )\n",
    "    return inputs"
   ]
  },
  {
   "cell_type": "code",
   "execution_count": 5,
   "id": "c99cdd0b-7def-4d6a-89c4-7710dd4ddc3d",
   "metadata": {},
   "outputs": [
    {
     "name": "stdout",
     "output_type": "stream",
     "text": [
      "Teacher Model Evaluation\n"
     ]
    },
    {
     "name": "stderr",
     "output_type": "stream",
     "text": [
      "Evaluating: 100%|██████████| 10570/10570 [02:12<00:00, 79.63it/s]\n"
     ]
    },
    {
     "name": "stdout",
     "output_type": "stream",
     "text": [
      "Exact Match: 57.24%\n",
      "F1 Score: 64.49%\n",
      "\n",
      "Student Model Evaluation (Before Distillation)\n"
     ]
    },
    {
     "name": "stderr",
     "output_type": "stream",
     "text": [
      "Evaluating: 100%|██████████| 10570/10570 [01:17<00:00, 135.83it/s]\n"
     ]
    },
    {
     "name": "stdout",
     "output_type": "stream",
     "text": [
      "Exact Match: 0.03%\n",
      "F1 Score: 0.56%\n",
      "\n"
     ]
    }
   ],
   "source": [
    "# Evaluate teacher model on validation set\n",
    "\n",
    "validation_dataset = squad[\"validation\"]\n",
    "\n",
    "#if debugging: \n",
    "#    validation_set = validation_dataset.select(range(5000))\n",
    "#    validation_dataset = validation_set\n",
    "\n",
    "print(\"Teacher Model Evaluation\")\n",
    "result = evaluate_model(teacher_model, teacher_tokenizer, validation_dataset)\n",
    "\n",
    "# Evaluate student model on validation set (before distillation)\n",
    "print(\"Student Model Evaluation (Before Distillation)\")\n",
    "result = evaluate_model(student_model, student_tokenizer, validation_dataset)\n",
    "\n",
    "# Save the results for use in Graphs\n",
    "exact_match_before = result['exact_match']\n",
    "f1_score_before = result['f1']"
   ]
  },
  {
   "cell_type": "code",
   "execution_count": 6,
   "id": "9857eec0-4fd0-489f-82bf-8963125fbfa4",
   "metadata": {},
   "outputs": [],
   "source": [
    "# Prepare data for distillation\n",
    "def preprocess_data(example):\n",
    "\n",
    "    # Move teacher model to appropriate device\n",
    "    teacher_model.to(device)\n",
    "    \n",
    "    # Tokenize context and question\n",
    "    inputs = teacher_tokenizer(\n",
    "        example[\"context\"], \n",
    "        example[\"question\"], \n",
    "        truncation=True, \n",
    "        padding=\"max_length\", \n",
    "        max_length=384,\n",
    "        return_tensors=\"pt\"\n",
    "    )\n",
    "\n",
    "    # Move inputs to the same device as the teacher model\n",
    "    inputs = {key: value.to(device) for key, value in inputs.items()}\n",
    "    \n",
    "    # Get logits from the teacher model\n",
    "    with torch.no_grad():\n",
    "        outputs = teacher_model(**inputs)\n",
    "    \n",
    "    # Add teacher logits to the example\n",
    "    example[\"input_ids\"] = inputs[\"input_ids\"][0].cpu().tolist()\n",
    "    example[\"attention_mask\"] = inputs[\"attention_mask\"][0].cpu().tolist()\n",
    "    example[\"start_logits\"] = outputs.start_logits[0].cpu().tolist()\n",
    "    example[\"end_logits\"] = outputs.end_logits[0].cpu().tolist()\n",
    "    \n",
    "    return example\n",
    "\n",
    "if debugging: \n",
    "    train_dataset = squad[\"train\"].select(range(30000)).map(preprocess_data)\n",
    "else:\n",
    "    train_dataset = squad[\"train\"].map(preprocess_data)    \n",
    "\n",
    "# Apply preprocessing to validation dataset\n",
    "validation_set = validation_dataset.map(preprocess_validation_data, batched=True)\n",
    "\n",
    "# Define training arguments for student model\n",
    "training_args = TrainingArguments(\n",
    "    output_dir=\"./results\",\n",
    "    eval_strategy=\"epoch\",\n",
    "    logging_steps=10,          # Log every 10 steps need when using small datasets for testing\n",
    "    learning_rate=2e-5,\n",
    "    per_device_train_batch_size=16,\n",
    "    num_train_epochs=4,\n",
    "    weight_decay=0.01,\n",
    "    save_total_limit=2,\n",
    "    remove_unused_columns=False,\n",
    ")"
   ]
  },
  {
   "cell_type": "code",
   "execution_count": 7,
   "id": "c406a9b4-d143-4879-8451-cf27c3fdb85b",
   "metadata": {},
   "outputs": [],
   "source": [
    "# Define custom loss function for knowledge distillation\n",
    "class DistillationTrainer(Trainer):    \n",
    "    def compute_loss(self, model, inputs, return_outputs=False, **kwargs):\n",
    "        \"\"\"\n",
    "        Custom loss function for knowledge distillation.\n",
    "        \"\"\"\n",
    "        \n",
    "        # Forward pass\n",
    "        outputs = model(input_ids=inputs[\"input_ids\"], attention_mask=inputs[\"attention_mask\"])\n",
    "        \n",
    "        # Compute KL Divergence loss between teacher and student logits\n",
    "        start_loss = torch.nn.functional.kl_div(\n",
    "            torch.nn.functional.log_softmax(outputs.start_logits, dim=-1),\n",
    "            torch.nn.functional.softmax(inputs[\"start_logits\"], dim=-1),\n",
    "            reduction=\"batchmean\"\n",
    "        )\n",
    "        end_loss = torch.nn.functional.kl_div(\n",
    "            torch.nn.functional.log_softmax(outputs.end_logits, dim=-1),\n",
    "            torch.nn.functional.softmax(inputs[\"end_logits\"], dim=-1),\n",
    "            reduction=\"batchmean\"\n",
    "        )\n",
    "        \n",
    "        # Average the start and end losses\n",
    "        loss = (start_loss + end_loss) / 2\n",
    "        \n",
    "        return (loss, outputs) if return_outputs else loss"
   ]
  },
  {
   "cell_type": "code",
   "execution_count": 8,
   "id": "377a49a4-a83b-4f49-a9a5-718fb9e9d7df",
   "metadata": {},
   "outputs": [],
   "source": [
    "class FullyCustomDataCollator:\n",
    "    def __init__(self, tokenizer):\n",
    "        self.tokenizer = tokenizer\n",
    "\n",
    "    def __call__(self, features):\n",
    "        # Filter out non-tokenized fields before padding\n",
    "        tokenized_features = [\n",
    "            {k: v for k, v in f.items() if k in [\"input_ids\", \"attention_mask\", \"token_type_ids\"]}\n",
    "            for f in features\n",
    "        ]\n",
    "\n",
    "        # Dynamically pad input_ids and attention_mask using the tokenizer\n",
    "        batch = self.tokenizer.pad(\n",
    "            tokenized_features,\n",
    "            padding=True,\n",
    "            max_length=None,\n",
    "            return_tensors=\"pt\",\n",
    "        )\n",
    "\n",
    "        # Add custom fields (e.g., start_logits and end_logits) to the batch\n",
    "        if \"start_logits\" in features[0]:\n",
    "            batch[\"start_logits\"] = torch.tensor([f[\"start_logits\"] for f in features], dtype=torch.float32)\n",
    "        if \"end_logits\" in features[0]:\n",
    "            batch[\"end_logits\"] = torch.tensor([f[\"end_logits\"] for f in features], dtype=torch.float32)\n",
    "\n",
    "        return batch\n",
    "\n"
   ]
  },
  {
   "cell_type": "code",
   "execution_count": 9,
   "id": "02f88f2f-979d-477b-8df2-049e31e1f84f",
   "metadata": {},
   "outputs": [],
   "source": [
    "data_collator = FullyCustomDataCollator(tokenizer=student_tokenizer)"
   ]
  },
  {
   "cell_type": "code",
   "execution_count": 10,
   "id": "a891ee9b-3f3b-4f9c-b035-b37ccade6376",
   "metadata": {},
   "outputs": [
    {
     "name": "stderr",
     "output_type": "stream",
     "text": [
      "***** Running training *****\n",
      "  Num examples = 30,000\n",
      "  Num Epochs = 4\n",
      "  Instantaneous batch size per device = 16\n",
      "  Training with DataParallel so batch size has been adjusted to: 32\n",
      "  Total train batch size (w. parallel, distributed & accumulation) = 32\n",
      "  Gradient Accumulation steps = 1\n",
      "  Total optimization steps = 3,752\n",
      "  Number of trainable parameters = 81,529,346\n",
      "You're using a RobertaTokenizerFast tokenizer. Please note that with a fast tokenizer, using the `__call__` method is faster than using a method to encode the text followed by a call to the `pad` method to get a padded encoding.\n"
     ]
    },
    {
     "name": "stdout",
     "output_type": "stream",
     "text": [
      "{'loss': 4.237, 'grad_norm': 6.256788730621338, 'learning_rate': 1.9952025586353946e-05, 'epoch': 0.010660980810234541}\n",
      "{'loss': 3.5088, 'grad_norm': 4.1194963455200195, 'learning_rate': 1.9898720682302774e-05, 'epoch': 0.021321961620469083}\n",
      "{'loss': 3.1044, 'grad_norm': 5.997345447540283, 'learning_rate': 1.98454157782516e-05, 'epoch': 0.031982942430703626}\n",
      "{'loss': 2.7326, 'grad_norm': 8.600717544555664, 'learning_rate': 1.979211087420043e-05, 'epoch': 0.042643923240938165}\n",
      "{'loss': 2.3927, 'grad_norm': 18.57805824279785, 'learning_rate': 1.9738805970149256e-05, 'epoch': 0.053304904051172705}\n",
      "{'loss': 2.1702, 'grad_norm': 21.49392318725586, 'learning_rate': 1.9685501066098083e-05, 'epoch': 0.06396588486140725}\n",
      "{'loss': 1.9809, 'grad_norm': 19.759639739990234, 'learning_rate': 1.963219616204691e-05, 'epoch': 0.07462686567164178}\n",
      "{'loss': 1.8796, 'grad_norm': 17.540889739990234, 'learning_rate': 1.9578891257995738e-05, 'epoch': 0.08528784648187633}\n",
      "{'loss': 1.7386, 'grad_norm': 24.73246955871582, 'learning_rate': 1.9525586353944565e-05, 'epoch': 0.09594882729211088}\n",
      "{'loss': 1.7138, 'grad_norm': 13.082489013671875, 'learning_rate': 1.9472281449893393e-05, 'epoch': 0.10660980810234541}\n",
      "{'loss': 1.5932, 'grad_norm': 18.97089195251465, 'learning_rate': 1.941897654584222e-05, 'epoch': 0.11727078891257996}\n",
      "{'loss': 1.4184, 'grad_norm': 11.991649627685547, 'learning_rate': 1.9365671641791047e-05, 'epoch': 0.1279317697228145}\n",
      "{'loss': 1.4037, 'grad_norm': 13.151895523071289, 'learning_rate': 1.9312366737739875e-05, 'epoch': 0.13859275053304904}\n",
      "{'loss': 1.3608, 'grad_norm': 26.10596466064453, 'learning_rate': 1.9259061833688702e-05, 'epoch': 0.14925373134328357}\n",
      "{'loss': 1.407, 'grad_norm': 15.890192985534668, 'learning_rate': 1.920575692963753e-05, 'epoch': 0.15991471215351813}\n",
      "{'loss': 1.1924, 'grad_norm': 13.497688293457031, 'learning_rate': 1.9152452025586353e-05, 'epoch': 0.17057569296375266}\n",
      "{'loss': 1.3328, 'grad_norm': 14.770602226257324, 'learning_rate': 1.909914712153518e-05, 'epoch': 0.1812366737739872}\n",
      "{'loss': 1.2744, 'grad_norm': 19.243785858154297, 'learning_rate': 1.9045842217484008e-05, 'epoch': 0.19189765458422176}\n",
      "{'loss': 1.1748, 'grad_norm': 24.15203857421875, 'learning_rate': 1.899253731343284e-05, 'epoch': 0.2025586353944563}\n",
      "{'loss': 1.1984, 'grad_norm': 13.129412651062012, 'learning_rate': 1.8939232409381666e-05, 'epoch': 0.21321961620469082}\n",
      "{'loss': 1.0893, 'grad_norm': 16.649885177612305, 'learning_rate': 1.8885927505330494e-05, 'epoch': 0.22388059701492538}\n",
      "{'loss': 1.1705, 'grad_norm': 18.09712791442871, 'learning_rate': 1.883262260127932e-05, 'epoch': 0.2345415778251599}\n",
      "{'loss': 1.1203, 'grad_norm': 14.601058006286621, 'learning_rate': 1.8779317697228145e-05, 'epoch': 0.24520255863539445}\n",
      "{'loss': 1.0922, 'grad_norm': 15.025594711303711, 'learning_rate': 1.8726012793176972e-05, 'epoch': 0.255863539445629}\n",
      "{'loss': 1.0614, 'grad_norm': 12.575759887695312, 'learning_rate': 1.86727078891258e-05, 'epoch': 0.26652452025586354}\n",
      "{'loss': 1.0848, 'grad_norm': 13.781689643859863, 'learning_rate': 1.8619402985074627e-05, 'epoch': 0.2771855010660981}\n",
      "{'loss': 1.0681, 'grad_norm': 11.072456359863281, 'learning_rate': 1.8566098081023454e-05, 'epoch': 0.2878464818763326}\n",
      "{'loss': 1.0382, 'grad_norm': 14.565284729003906, 'learning_rate': 1.8512793176972282e-05, 'epoch': 0.29850746268656714}\n",
      "{'loss': 0.9973, 'grad_norm': 12.552277565002441, 'learning_rate': 1.8459488272921113e-05, 'epoch': 0.3091684434968017}\n",
      "{'loss': 0.9808, 'grad_norm': 19.103809356689453, 'learning_rate': 1.8406183368869937e-05, 'epoch': 0.31982942430703626}\n",
      "{'loss': 1.0668, 'grad_norm': 13.46015739440918, 'learning_rate': 1.8352878464818764e-05, 'epoch': 0.3304904051172708}\n",
      "{'loss': 0.9567, 'grad_norm': 11.452289581298828, 'learning_rate': 1.829957356076759e-05, 'epoch': 0.3411513859275053}\n",
      "{'loss': 1.0235, 'grad_norm': 15.764137268066406, 'learning_rate': 1.824626865671642e-05, 'epoch': 0.35181236673773986}\n",
      "{'loss': 1.0206, 'grad_norm': 13.360457420349121, 'learning_rate': 1.8192963752665246e-05, 'epoch': 0.3624733475479744}\n",
      "{'loss': 0.9662, 'grad_norm': 12.542623519897461, 'learning_rate': 1.8139658848614073e-05, 'epoch': 0.373134328358209}\n",
      "{'loss': 0.926, 'grad_norm': 11.110747337341309, 'learning_rate': 1.80863539445629e-05, 'epoch': 0.3837953091684435}\n",
      "{'loss': 0.899, 'grad_norm': 15.127501487731934, 'learning_rate': 1.8033049040511728e-05, 'epoch': 0.39445628997867804}\n",
      "{'loss': 0.9441, 'grad_norm': 10.666740417480469, 'learning_rate': 1.7979744136460556e-05, 'epoch': 0.4051172707889126}\n",
      "{'loss': 0.9747, 'grad_norm': 10.675200462341309, 'learning_rate': 1.7926439232409383e-05, 'epoch': 0.4157782515991471}\n",
      "{'loss': 0.8939, 'grad_norm': 12.64449405670166, 'learning_rate': 1.787313432835821e-05, 'epoch': 0.42643923240938164}\n",
      "{'loss': 0.9353, 'grad_norm': 14.260259628295898, 'learning_rate': 1.7819829424307038e-05, 'epoch': 0.43710021321961623}\n",
      "{'loss': 0.8708, 'grad_norm': 14.15090560913086, 'learning_rate': 1.7766524520255865e-05, 'epoch': 0.44776119402985076}\n",
      "{'loss': 0.8641, 'grad_norm': 12.53406047821045, 'learning_rate': 1.7713219616204692e-05, 'epoch': 0.4584221748400853}\n",
      "{'loss': 0.8572, 'grad_norm': 11.636153221130371, 'learning_rate': 1.765991471215352e-05, 'epoch': 0.4690831556503198}\n",
      "{'loss': 0.9142, 'grad_norm': 10.539617538452148, 'learning_rate': 1.7606609808102347e-05, 'epoch': 0.47974413646055436}\n",
      "{'loss': 0.8083, 'grad_norm': 11.283971786499023, 'learning_rate': 1.7553304904051174e-05, 'epoch': 0.4904051172707889}\n",
      "{'loss': 0.8821, 'grad_norm': 11.424793243408203, 'learning_rate': 1.7500000000000002e-05, 'epoch': 0.5010660980810234}\n",
      "{'loss': 0.8256, 'grad_norm': 11.173395156860352, 'learning_rate': 1.744669509594883e-05, 'epoch': 0.511727078891258}\n",
      "{'loss': 0.8463, 'grad_norm': 10.700334548950195, 'learning_rate': 1.7393390191897657e-05, 'epoch': 0.5223880597014925}\n"
     ]
    },
    {
     "name": "stderr",
     "output_type": "stream",
     "text": [
      "Saving model checkpoint to ./results/checkpoint-500\n",
      "Configuration saved in ./results/checkpoint-500/config.json\n"
     ]
    },
    {
     "name": "stdout",
     "output_type": "stream",
     "text": [
      "{'loss': 0.794, 'grad_norm': 16.377290725708008, 'learning_rate': 1.7340085287846484e-05, 'epoch': 0.5330490405117271}\n"
     ]
    },
    {
     "name": "stderr",
     "output_type": "stream",
     "text": [
      "Model weights saved in ./results/checkpoint-500/model.safetensors\n",
      "Saving Trainer.data_collator.tokenizer by default as Trainer.processing_class is `None`\n",
      "tokenizer config file saved in ./results/checkpoint-500/tokenizer_config.json\n",
      "Special tokens file saved in ./results/checkpoint-500/special_tokens_map.json\n",
      "Deleting older checkpoint [results/checkpoint-500] due to args.save_total_limit\n"
     ]
    },
    {
     "name": "stdout",
     "output_type": "stream",
     "text": [
      "{'loss': 0.8533, 'grad_norm': 15.14050006866455, 'learning_rate': 1.728678038379531e-05, 'epoch': 0.5437100213219617}\n",
      "{'loss': 0.865, 'grad_norm': 13.130496978759766, 'learning_rate': 1.723347547974414e-05, 'epoch': 0.5543710021321961}\n",
      "{'loss': 0.8774, 'grad_norm': 12.097600936889648, 'learning_rate': 1.7180170575692966e-05, 'epoch': 0.5650319829424307}\n",
      "{'loss': 0.73, 'grad_norm': 15.811471939086914, 'learning_rate': 1.7126865671641793e-05, 'epoch': 0.5756929637526652}\n",
      "{'loss': 0.8017, 'grad_norm': 11.782110214233398, 'learning_rate': 1.707356076759062e-05, 'epoch': 0.5863539445628998}\n",
      "{'loss': 0.8454, 'grad_norm': 12.301138877868652, 'learning_rate': 1.7020255863539448e-05, 'epoch': 0.5970149253731343}\n",
      "{'loss': 0.8051, 'grad_norm': 15.84660530090332, 'learning_rate': 1.6966950959488276e-05, 'epoch': 0.6076759061833689}\n",
      "{'loss': 0.7702, 'grad_norm': 10.093545913696289, 'learning_rate': 1.69136460554371e-05, 'epoch': 0.6183368869936035}\n",
      "{'loss': 0.7893, 'grad_norm': 10.337581634521484, 'learning_rate': 1.6860341151385927e-05, 'epoch': 0.6289978678038379}\n",
      "{'loss': 0.7783, 'grad_norm': 12.679027557373047, 'learning_rate': 1.6807036247334754e-05, 'epoch': 0.6396588486140725}\n",
      "{'loss': 0.7615, 'grad_norm': 9.578770637512207, 'learning_rate': 1.6753731343283585e-05, 'epoch': 0.650319829424307}\n",
      "{'loss': 0.782, 'grad_norm': 11.343071937561035, 'learning_rate': 1.6700426439232412e-05, 'epoch': 0.6609808102345416}\n",
      "{'loss': 0.8059, 'grad_norm': 19.697702407836914, 'learning_rate': 1.664712153518124e-05, 'epoch': 0.6716417910447762}\n",
      "{'loss': 0.7422, 'grad_norm': 13.846495628356934, 'learning_rate': 1.6593816631130067e-05, 'epoch': 0.6823027718550106}\n",
      "{'loss': 0.807, 'grad_norm': 13.743521690368652, 'learning_rate': 1.654051172707889e-05, 'epoch': 0.6929637526652452}\n",
      "{'loss': 0.7618, 'grad_norm': 12.555815696716309, 'learning_rate': 1.648720682302772e-05, 'epoch': 0.7036247334754797}\n",
      "{'loss': 0.8594, 'grad_norm': 15.269584655761719, 'learning_rate': 1.6433901918976546e-05, 'epoch': 0.7142857142857143}\n",
      "{'loss': 0.7425, 'grad_norm': 14.18301773071289, 'learning_rate': 1.6380597014925373e-05, 'epoch': 0.7249466950959488}\n",
      "{'loss': 0.7542, 'grad_norm': 10.778234481811523, 'learning_rate': 1.63272921108742e-05, 'epoch': 0.7356076759061834}\n",
      "{'loss': 0.7929, 'grad_norm': 10.550758361816406, 'learning_rate': 1.627398720682303e-05, 'epoch': 0.746268656716418}\n",
      "{'loss': 0.7306, 'grad_norm': 11.501609802246094, 'learning_rate': 1.622068230277186e-05, 'epoch': 0.7569296375266524}\n",
      "{'loss': 0.7397, 'grad_norm': 13.768959999084473, 'learning_rate': 1.6167377398720683e-05, 'epoch': 0.767590618336887}\n",
      "{'loss': 0.7362, 'grad_norm': 13.478747367858887, 'learning_rate': 1.611407249466951e-05, 'epoch': 0.7782515991471215}\n",
      "{'loss': 0.766, 'grad_norm': 13.328201293945312, 'learning_rate': 1.6060767590618337e-05, 'epoch': 0.7889125799573561}\n",
      "{'loss': 0.7183, 'grad_norm': 10.665111541748047, 'learning_rate': 1.6007462686567165e-05, 'epoch': 0.7995735607675906}\n",
      "{'loss': 0.7564, 'grad_norm': 12.578802108764648, 'learning_rate': 1.5954157782515992e-05, 'epoch': 0.8102345415778252}\n",
      "{'loss': 0.7259, 'grad_norm': 17.184364318847656, 'learning_rate': 1.590085287846482e-05, 'epoch': 0.8208955223880597}\n",
      "{'loss': 0.705, 'grad_norm': 10.339890480041504, 'learning_rate': 1.5847547974413647e-05, 'epoch': 0.8315565031982942}\n",
      "{'loss': 0.7715, 'grad_norm': 11.727831840515137, 'learning_rate': 1.5794243070362474e-05, 'epoch': 0.8422174840085288}\n",
      "{'loss': 0.7157, 'grad_norm': 9.410808563232422, 'learning_rate': 1.57409381663113e-05, 'epoch': 0.8528784648187633}\n",
      "{'loss': 0.699, 'grad_norm': 7.464287281036377, 'learning_rate': 1.568763326226013e-05, 'epoch': 0.8635394456289979}\n",
      "{'loss': 0.6883, 'grad_norm': 14.821300506591797, 'learning_rate': 1.5634328358208956e-05, 'epoch': 0.8742004264392325}\n",
      "{'loss': 0.7145, 'grad_norm': 10.25855541229248, 'learning_rate': 1.5581023454157784e-05, 'epoch': 0.8848614072494669}\n",
      "{'loss': 0.6888, 'grad_norm': 11.119027137756348, 'learning_rate': 1.552771855010661e-05, 'epoch': 0.8955223880597015}\n",
      "{'loss': 0.7114, 'grad_norm': 15.978042602539062, 'learning_rate': 1.547441364605544e-05, 'epoch': 0.906183368869936}\n",
      "{'loss': 0.6448, 'grad_norm': 11.432304382324219, 'learning_rate': 1.5421108742004266e-05, 'epoch': 0.9168443496801706}\n",
      "{'loss': 0.7036, 'grad_norm': 9.067864418029785, 'learning_rate': 1.5367803837953093e-05, 'epoch': 0.9275053304904051}\n",
      "{'loss': 0.6481, 'grad_norm': 9.470084190368652, 'learning_rate': 1.531449893390192e-05, 'epoch': 0.9381663113006397}\n",
      "{'loss': 0.7056, 'grad_norm': 13.314221382141113, 'learning_rate': 1.5261194029850748e-05, 'epoch': 0.9488272921108742}\n",
      "{'loss': 0.6745, 'grad_norm': 11.999584197998047, 'learning_rate': 1.5207889125799575e-05, 'epoch': 0.9594882729211087}\n",
      "{'loss': 0.7021, 'grad_norm': 11.698478698730469, 'learning_rate': 1.5154584221748403e-05, 'epoch': 0.9701492537313433}\n",
      "{'loss': 0.7659, 'grad_norm': 11.831250190734863, 'learning_rate': 1.5101279317697228e-05, 'epoch': 0.9808102345415778}\n",
      "{'loss': 0.6799, 'grad_norm': 11.751516342163086, 'learning_rate': 1.5047974413646056e-05, 'epoch': 0.9914712153518124}\n"
     ]
    },
    {
     "name": "stderr",
     "output_type": "stream",
     "text": [
      "\n",
      "***** Running Evaluation *****\n",
      "  Num examples = 10570\n",
      "  Batch size = 16\n"
     ]
    },
    {
     "name": "stdout",
     "output_type": "stream",
     "text": [
      "{'eval_runtime': 40.8303, 'eval_samples_per_second': 258.876, 'eval_steps_per_second': 16.189, 'epoch': 1.0}\n",
      "{'loss': 0.6595, 'grad_norm': 13.977747917175293, 'learning_rate': 1.4994669509594883e-05, 'epoch': 1.0021321961620469}\n",
      "{'loss': 0.5592, 'grad_norm': 10.309370994567871, 'learning_rate': 1.494136460554371e-05, 'epoch': 1.0127931769722816}\n",
      "{'loss': 0.6437, 'grad_norm': 9.661015510559082, 'learning_rate': 1.488805970149254e-05, 'epoch': 1.023454157782516}\n",
      "{'loss': 0.6143, 'grad_norm': 9.406672477722168, 'learning_rate': 1.4834754797441367e-05, 'epoch': 1.0341151385927505}\n",
      "{'loss': 0.5375, 'grad_norm': 18.603084564208984, 'learning_rate': 1.4781449893390194e-05, 'epoch': 1.044776119402985}\n",
      "{'loss': 0.5971, 'grad_norm': 11.533555030822754, 'learning_rate': 1.472814498933902e-05, 'epoch': 1.0554371002132197}\n"
     ]
    },
    {
     "name": "stderr",
     "output_type": "stream",
     "text": [
      "Saving model checkpoint to ./results/checkpoint-1000\n",
      "Configuration saved in ./results/checkpoint-1000/config.json\n"
     ]
    },
    {
     "name": "stdout",
     "output_type": "stream",
     "text": [
      "{'loss': 0.5491, 'grad_norm': 13.404452323913574, 'learning_rate': 1.4674840085287847e-05, 'epoch': 1.0660980810234542}\n"
     ]
    },
    {
     "name": "stderr",
     "output_type": "stream",
     "text": [
      "Model weights saved in ./results/checkpoint-1000/model.safetensors\n",
      "Saving Trainer.data_collator.tokenizer by default as Trainer.processing_class is `None`\n",
      "tokenizer config file saved in ./results/checkpoint-1000/tokenizer_config.json\n",
      "Special tokens file saved in ./results/checkpoint-1000/special_tokens_map.json\n",
      "Deleting older checkpoint [results/checkpoint-1000] due to args.save_total_limit\n"
     ]
    },
    {
     "name": "stdout",
     "output_type": "stream",
     "text": [
      "{'loss': 0.6406, 'grad_norm': 9.98365592956543, 'learning_rate': 1.4621535181236675e-05, 'epoch': 1.0767590618336886}\n",
      "{'loss': 0.5747, 'grad_norm': 9.994996070861816, 'learning_rate': 1.4568230277185502e-05, 'epoch': 1.0874200426439233}\n",
      "{'loss': 0.5917, 'grad_norm': 11.07884693145752, 'learning_rate': 1.451492537313433e-05, 'epoch': 1.0980810234541578}\n",
      "{'loss': 0.609, 'grad_norm': 12.824482917785645, 'learning_rate': 1.4461620469083157e-05, 'epoch': 1.1087420042643923}\n",
      "{'loss': 0.6322, 'grad_norm': 13.115180969238281, 'learning_rate': 1.4408315565031986e-05, 'epoch': 1.1194029850746268}\n",
      "{'loss': 0.6139, 'grad_norm': 9.071969985961914, 'learning_rate': 1.435501066098081e-05, 'epoch': 1.1300639658848615}\n",
      "{'loss': 0.5121, 'grad_norm': 13.010038375854492, 'learning_rate': 1.4301705756929637e-05, 'epoch': 1.140724946695096}\n",
      "{'loss': 0.5418, 'grad_norm': 10.506412506103516, 'learning_rate': 1.4248400852878466e-05, 'epoch': 1.1513859275053304}\n",
      "{'loss': 0.5112, 'grad_norm': 9.43063735961914, 'learning_rate': 1.4195095948827294e-05, 'epoch': 1.1620469083155651}\n",
      "{'loss': 0.5709, 'grad_norm': 9.769953727722168, 'learning_rate': 1.4141791044776121e-05, 'epoch': 1.1727078891257996}\n",
      "{'loss': 0.5644, 'grad_norm': 11.716586112976074, 'learning_rate': 1.4088486140724948e-05, 'epoch': 1.183368869936034}\n",
      "{'loss': 0.5571, 'grad_norm': 10.639366149902344, 'learning_rate': 1.4035181236673776e-05, 'epoch': 1.1940298507462686}\n",
      "{'loss': 0.5812, 'grad_norm': 10.467174530029297, 'learning_rate': 1.3981876332622601e-05, 'epoch': 1.2046908315565032}\n",
      "{'loss': 0.5547, 'grad_norm': 13.617380142211914, 'learning_rate': 1.3928571428571429e-05, 'epoch': 1.2153518123667377}\n",
      "{'loss': 0.5855, 'grad_norm': 10.870797157287598, 'learning_rate': 1.3875266524520256e-05, 'epoch': 1.2260127931769722}\n",
      "{'loss': 0.528, 'grad_norm': 9.784602165222168, 'learning_rate': 1.3821961620469084e-05, 'epoch': 1.236673773987207}\n",
      "{'loss': 0.5619, 'grad_norm': 9.391219139099121, 'learning_rate': 1.3768656716417913e-05, 'epoch': 1.2473347547974414}\n",
      "{'loss': 0.5349, 'grad_norm': 11.680845260620117, 'learning_rate': 1.371535181236674e-05, 'epoch': 1.2579957356076759}\n",
      "{'loss': 0.5442, 'grad_norm': 11.679461479187012, 'learning_rate': 1.3662046908315567e-05, 'epoch': 1.2686567164179103}\n",
      "{'loss': 0.5775, 'grad_norm': 12.205363273620605, 'learning_rate': 1.3608742004264393e-05, 'epoch': 1.279317697228145}\n",
      "{'loss': 0.5374, 'grad_norm': 15.11709976196289, 'learning_rate': 1.355543710021322e-05, 'epoch': 1.2899786780383795}\n",
      "{'loss': 0.5985, 'grad_norm': 13.118133544921875, 'learning_rate': 1.3502132196162048e-05, 'epoch': 1.3006396588486142}\n",
      "{'loss': 0.516, 'grad_norm': 12.75031852722168, 'learning_rate': 1.3448827292110875e-05, 'epoch': 1.3113006396588487}\n",
      "{'loss': 0.4942, 'grad_norm': 9.04427719116211, 'learning_rate': 1.3395522388059702e-05, 'epoch': 1.3219616204690832}\n",
      "{'loss': 0.5947, 'grad_norm': 9.92918872833252, 'learning_rate': 1.334221748400853e-05, 'epoch': 1.3326226012793176}\n",
      "{'loss': 0.5609, 'grad_norm': 11.478833198547363, 'learning_rate': 1.3288912579957359e-05, 'epoch': 1.3432835820895521}\n",
      "{'loss': 0.5972, 'grad_norm': 11.620444297790527, 'learning_rate': 1.3235607675906183e-05, 'epoch': 1.3539445628997868}\n",
      "{'loss': 0.5939, 'grad_norm': 11.948748588562012, 'learning_rate': 1.3182302771855012e-05, 'epoch': 1.3646055437100213}\n",
      "{'loss': 0.5367, 'grad_norm': 11.712285041809082, 'learning_rate': 1.312899786780384e-05, 'epoch': 1.375266524520256}\n",
      "{'loss': 0.561, 'grad_norm': 10.758380889892578, 'learning_rate': 1.3075692963752667e-05, 'epoch': 1.3859275053304905}\n",
      "{'loss': 0.5159, 'grad_norm': 19.874603271484375, 'learning_rate': 1.3022388059701494e-05, 'epoch': 1.396588486140725}\n",
      "{'loss': 0.5903, 'grad_norm': 10.263952255249023, 'learning_rate': 1.2969083155650321e-05, 'epoch': 1.4072494669509594}\n",
      "{'loss': 0.5291, 'grad_norm': 10.201107025146484, 'learning_rate': 1.2915778251599149e-05, 'epoch': 1.417910447761194}\n",
      "{'loss': 0.5245, 'grad_norm': 13.966837882995605, 'learning_rate': 1.2862473347547974e-05, 'epoch': 1.4285714285714286}\n",
      "{'loss': 0.5221, 'grad_norm': 12.925848960876465, 'learning_rate': 1.2809168443496802e-05, 'epoch': 1.439232409381663}\n",
      "{'loss': 0.5146, 'grad_norm': 12.94360065460205, 'learning_rate': 1.275586353944563e-05, 'epoch': 1.4498933901918978}\n",
      "{'loss': 0.5255, 'grad_norm': 10.017852783203125, 'learning_rate': 1.2702558635394457e-05, 'epoch': 1.4605543710021323}\n",
      "{'loss': 0.5451, 'grad_norm': 8.219470977783203, 'learning_rate': 1.2649253731343286e-05, 'epoch': 1.4712153518123667}\n",
      "{'loss': 0.531, 'grad_norm': 12.209077835083008, 'learning_rate': 1.2595948827292113e-05, 'epoch': 1.4818763326226012}\n",
      "{'loss': 0.5117, 'grad_norm': 10.850184440612793, 'learning_rate': 1.254264392324094e-05, 'epoch': 1.4925373134328357}\n",
      "{'loss': 0.4999, 'grad_norm': 9.712772369384766, 'learning_rate': 1.2489339019189766e-05, 'epoch': 1.5031982942430704}\n",
      "{'loss': 0.555, 'grad_norm': 9.5557279586792, 'learning_rate': 1.2436034115138593e-05, 'epoch': 1.5138592750533049}\n",
      "{'loss': 0.5228, 'grad_norm': 7.065814018249512, 'learning_rate': 1.238272921108742e-05, 'epoch': 1.5245202558635396}\n",
      "{'loss': 0.5287, 'grad_norm': 10.806900978088379, 'learning_rate': 1.2329424307036248e-05, 'epoch': 1.535181236673774}\n",
      "{'loss': 0.5581, 'grad_norm': 8.922597885131836, 'learning_rate': 1.2276119402985076e-05, 'epoch': 1.5458422174840085}\n",
      "{'loss': 0.529, 'grad_norm': 10.46670150756836, 'learning_rate': 1.2222814498933903e-05, 'epoch': 1.556503198294243}\n",
      "{'loss': 0.4998, 'grad_norm': 15.615031242370605, 'learning_rate': 1.2169509594882732e-05, 'epoch': 1.5671641791044775}\n",
      "{'loss': 0.583, 'grad_norm': 11.314104080200195, 'learning_rate': 1.2116204690831556e-05, 'epoch': 1.5778251599147122}\n",
      "{'loss': 0.6149, 'grad_norm': 9.593670845031738, 'learning_rate': 1.2062899786780385e-05, 'epoch': 1.5884861407249466}\n"
     ]
    },
    {
     "name": "stderr",
     "output_type": "stream",
     "text": [
      "Saving model checkpoint to ./results/checkpoint-1500\n",
      "Configuration saved in ./results/checkpoint-1500/config.json\n"
     ]
    },
    {
     "name": "stdout",
     "output_type": "stream",
     "text": [
      "{'loss': 0.5735, 'grad_norm': 9.241072654724121, 'learning_rate': 1.2009594882729212e-05, 'epoch': 1.5991471215351813}\n"
     ]
    },
    {
     "name": "stderr",
     "output_type": "stream",
     "text": [
      "Model weights saved in ./results/checkpoint-1500/model.safetensors\n",
      "Saving Trainer.data_collator.tokenizer by default as Trainer.processing_class is `None`\n",
      "tokenizer config file saved in ./results/checkpoint-1500/tokenizer_config.json\n",
      "Special tokens file saved in ./results/checkpoint-1500/special_tokens_map.json\n",
      "Deleting older checkpoint [results/checkpoint-1500] due to args.save_total_limit\n"
     ]
    },
    {
     "name": "stdout",
     "output_type": "stream",
     "text": [
      "{'loss': 0.5293, 'grad_norm': 13.58087158203125, 'learning_rate': 1.195628997867804e-05, 'epoch': 1.6098081023454158}\n",
      "{'loss': 0.5633, 'grad_norm': 15.435892105102539, 'learning_rate': 1.1902985074626867e-05, 'epoch': 1.6204690831556503}\n",
      "{'loss': 0.5051, 'grad_norm': 12.95156478881836, 'learning_rate': 1.1849680170575695e-05, 'epoch': 1.6311300639658848}\n",
      "{'loss': 0.5168, 'grad_norm': 10.789946556091309, 'learning_rate': 1.179637526652452e-05, 'epoch': 1.6417910447761193}\n",
      "{'loss': 0.5372, 'grad_norm': 9.7008695602417, 'learning_rate': 1.1743070362473348e-05, 'epoch': 1.652452025586354}\n",
      "{'loss': 0.5531, 'grad_norm': 13.51697826385498, 'learning_rate': 1.1689765458422175e-05, 'epoch': 1.6631130063965884}\n",
      "{'loss': 0.5407, 'grad_norm': 10.714192390441895, 'learning_rate': 1.1636460554371002e-05, 'epoch': 1.6737739872068231}\n",
      "{'loss': 0.5388, 'grad_norm': 10.228133201599121, 'learning_rate': 1.1583155650319831e-05, 'epoch': 1.6844349680170576}\n",
      "{'loss': 0.5079, 'grad_norm': 9.54541015625, 'learning_rate': 1.1529850746268659e-05, 'epoch': 1.695095948827292}\n",
      "{'loss': 0.5067, 'grad_norm': 11.55247688293457, 'learning_rate': 1.1476545842217486e-05, 'epoch': 1.7057569296375266}\n",
      "{'loss': 0.5379, 'grad_norm': 9.337690353393555, 'learning_rate': 1.1423240938166312e-05, 'epoch': 1.716417910447761}\n",
      "{'loss': 0.5156, 'grad_norm': 11.976231575012207, 'learning_rate': 1.1369936034115139e-05, 'epoch': 1.7270788912579957}\n",
      "{'loss': 0.5342, 'grad_norm': 9.709993362426758, 'learning_rate': 1.1316631130063966e-05, 'epoch': 1.7377398720682304}\n",
      "{'loss': 0.5113, 'grad_norm': 8.706387519836426, 'learning_rate': 1.1263326226012794e-05, 'epoch': 1.748400852878465}\n",
      "{'loss': 0.5226, 'grad_norm': 12.927324295043945, 'learning_rate': 1.1210021321961621e-05, 'epoch': 1.7590618336886994}\n",
      "{'loss': 0.5083, 'grad_norm': 11.598763465881348, 'learning_rate': 1.1156716417910449e-05, 'epoch': 1.7697228144989339}\n",
      "{'loss': 0.5448, 'grad_norm': 13.446708679199219, 'learning_rate': 1.1103411513859278e-05, 'epoch': 1.7803837953091683}\n",
      "{'loss': 0.4874, 'grad_norm': 14.39628791809082, 'learning_rate': 1.1050106609808102e-05, 'epoch': 1.7910447761194028}\n",
      "{'loss': 0.5197, 'grad_norm': 15.6124267578125, 'learning_rate': 1.0996801705756929e-05, 'epoch': 1.8017057569296375}\n",
      "{'loss': 0.4882, 'grad_norm': 9.927996635437012, 'learning_rate': 1.0943496801705758e-05, 'epoch': 1.8123667377398722}\n",
      "{'loss': 0.5271, 'grad_norm': 10.117243766784668, 'learning_rate': 1.0890191897654585e-05, 'epoch': 1.8230277185501067}\n",
      "{'loss': 0.4928, 'grad_norm': 8.292989730834961, 'learning_rate': 1.0836886993603413e-05, 'epoch': 1.8336886993603412}\n",
      "{'loss': 0.4831, 'grad_norm': 10.460108757019043, 'learning_rate': 1.078358208955224e-05, 'epoch': 1.8443496801705757}\n",
      "{'loss': 0.5188, 'grad_norm': 13.751578330993652, 'learning_rate': 1.0730277185501068e-05, 'epoch': 1.8550106609808101}\n",
      "{'loss': 0.4894, 'grad_norm': 10.74586296081543, 'learning_rate': 1.0676972281449893e-05, 'epoch': 1.8656716417910446}\n",
      "{'loss': 0.5089, 'grad_norm': 10.198136329650879, 'learning_rate': 1.062366737739872e-05, 'epoch': 1.8763326226012793}\n",
      "{'loss': 0.5015, 'grad_norm': 15.17175579071045, 'learning_rate': 1.0570362473347548e-05, 'epoch': 1.886993603411514}\n",
      "{'loss': 0.4909, 'grad_norm': 16.958301544189453, 'learning_rate': 1.0517057569296375e-05, 'epoch': 1.8976545842217485}\n",
      "{'loss': 0.5123, 'grad_norm': 9.0903959274292, 'learning_rate': 1.0463752665245204e-05, 'epoch': 1.908315565031983}\n",
      "{'loss': 0.4691, 'grad_norm': 10.143584251403809, 'learning_rate': 1.0410447761194032e-05, 'epoch': 1.9189765458422174}\n",
      "{'loss': 0.5472, 'grad_norm': 8.90379524230957, 'learning_rate': 1.0357142857142859e-05, 'epoch': 1.929637526652452}\n",
      "{'loss': 0.5367, 'grad_norm': 10.9579439163208, 'learning_rate': 1.0303837953091685e-05, 'epoch': 1.9402985074626866}\n",
      "{'loss': 0.5025, 'grad_norm': 9.37315845489502, 'learning_rate': 1.0250533049040512e-05, 'epoch': 1.950959488272921}\n",
      "{'loss': 0.514, 'grad_norm': 10.600302696228027, 'learning_rate': 1.019722814498934e-05, 'epoch': 1.9616204690831558}\n",
      "{'loss': 0.494, 'grad_norm': 11.300600051879883, 'learning_rate': 1.0143923240938167e-05, 'epoch': 1.9722814498933903}\n",
      "{'loss': 0.4736, 'grad_norm': 11.376254081726074, 'learning_rate': 1.0090618336886994e-05, 'epoch': 1.9829424307036247}\n",
      "{'loss': 0.5122, 'grad_norm': 12.62397289276123, 'learning_rate': 1.0037313432835822e-05, 'epoch': 1.9936034115138592}\n"
     ]
    },
    {
     "name": "stderr",
     "output_type": "stream",
     "text": [
      "\n",
      "***** Running Evaluation *****\n",
      "  Num examples = 10570\n",
      "  Batch size = 16\n"
     ]
    },
    {
     "name": "stdout",
     "output_type": "stream",
     "text": [
      "{'eval_runtime': 41.4284, 'eval_samples_per_second': 255.139, 'eval_steps_per_second': 15.955, 'epoch': 2.0}\n",
      "{'loss': 0.5094, 'grad_norm': 12.436214447021484, 'learning_rate': 9.984008528784649e-06, 'epoch': 2.0042643923240937}\n",
      "{'loss': 0.4401, 'grad_norm': 7.762083053588867, 'learning_rate': 9.930703624733476e-06, 'epoch': 2.014925373134328}\n",
      "{'loss': 0.4549, 'grad_norm': 11.501130104064941, 'learning_rate': 9.877398720682304e-06, 'epoch': 2.025586353944563}\n",
      "{'loss': 0.4131, 'grad_norm': 6.727175712585449, 'learning_rate': 9.824093816631131e-06, 'epoch': 2.0362473347547976}\n",
      "{'loss': 0.4505, 'grad_norm': 10.71688175201416, 'learning_rate': 9.770788912579959e-06, 'epoch': 2.046908315565032}\n",
      "{'loss': 0.4721, 'grad_norm': 11.63425350189209, 'learning_rate': 9.717484008528786e-06, 'epoch': 2.0575692963752665}\n",
      "{'loss': 0.4339, 'grad_norm': 8.329241752624512, 'learning_rate': 9.664179104477612e-06, 'epoch': 2.068230277185501}\n",
      "{'loss': 0.3757, 'grad_norm': 8.19783878326416, 'learning_rate': 9.61087420042644e-06, 'epoch': 2.0788912579957355}\n",
      "{'loss': 0.4238, 'grad_norm': 9.795917510986328, 'learning_rate': 9.557569296375268e-06, 'epoch': 2.08955223880597}\n",
      "{'loss': 0.4391, 'grad_norm': 15.88956069946289, 'learning_rate': 9.504264392324095e-06, 'epoch': 2.100213219616205}\n",
      "{'loss': 0.4201, 'grad_norm': 9.18979263305664, 'learning_rate': 9.450959488272921e-06, 'epoch': 2.1108742004264394}\n",
      "{'loss': 0.4263, 'grad_norm': 8.968473434448242, 'learning_rate': 9.39765458422175e-06, 'epoch': 2.121535181236674}\n"
     ]
    },
    {
     "name": "stderr",
     "output_type": "stream",
     "text": [
      "Saving model checkpoint to ./results/checkpoint-2000\n",
      "Configuration saved in ./results/checkpoint-2000/config.json\n"
     ]
    },
    {
     "name": "stdout",
     "output_type": "stream",
     "text": [
      "{'loss': 0.4343, 'grad_norm': 11.088776588439941, 'learning_rate': 9.344349680170577e-06, 'epoch': 2.1321961620469083}\n"
     ]
    },
    {
     "name": "stderr",
     "output_type": "stream",
     "text": [
      "Model weights saved in ./results/checkpoint-2000/model.safetensors\n",
      "Saving Trainer.data_collator.tokenizer by default as Trainer.processing_class is `None`\n",
      "tokenizer config file saved in ./results/checkpoint-2000/tokenizer_config.json\n",
      "Special tokens file saved in ./results/checkpoint-2000/special_tokens_map.json\n",
      "Deleting older checkpoint [results/checkpoint-2000] due to args.save_total_limit\n"
     ]
    },
    {
     "name": "stdout",
     "output_type": "stream",
     "text": [
      "{'loss': 0.4385, 'grad_norm': 8.935294151306152, 'learning_rate': 9.291044776119403e-06, 'epoch': 2.142857142857143}\n",
      "{'loss': 0.4465, 'grad_norm': 11.522176742553711, 'learning_rate': 9.23773987206823e-06, 'epoch': 2.1535181236673773}\n",
      "{'loss': 0.431, 'grad_norm': 10.17583179473877, 'learning_rate': 9.184434968017058e-06, 'epoch': 2.1641791044776117}\n",
      "{'loss': 0.4211, 'grad_norm': 9.551682472229004, 'learning_rate': 9.131130063965885e-06, 'epoch': 2.1748400852878467}\n",
      "{'loss': 0.4289, 'grad_norm': 10.493217468261719, 'learning_rate': 9.077825159914713e-06, 'epoch': 2.185501066098081}\n",
      "{'loss': 0.4253, 'grad_norm': 10.252504348754883, 'learning_rate': 9.02452025586354e-06, 'epoch': 2.1961620469083156}\n",
      "{'loss': 0.4565, 'grad_norm': 11.365184783935547, 'learning_rate': 8.971215351812367e-06, 'epoch': 2.20682302771855}\n",
      "{'loss': 0.4397, 'grad_norm': 9.363019943237305, 'learning_rate': 8.917910447761195e-06, 'epoch': 2.2174840085287846}\n",
      "{'loss': 0.4206, 'grad_norm': 14.724061012268066, 'learning_rate': 8.864605543710022e-06, 'epoch': 2.228144989339019}\n",
      "{'loss': 0.4372, 'grad_norm': 9.18187427520752, 'learning_rate': 8.81130063965885e-06, 'epoch': 2.2388059701492535}\n",
      "{'loss': 0.4383, 'grad_norm': 11.626362800598145, 'learning_rate': 8.757995735607677e-06, 'epoch': 2.2494669509594885}\n",
      "{'loss': 0.3779, 'grad_norm': 10.584516525268555, 'learning_rate': 8.704690831556504e-06, 'epoch': 2.260127931769723}\n",
      "{'loss': 0.4298, 'grad_norm': 11.524565696716309, 'learning_rate': 8.651385927505332e-06, 'epoch': 2.2707889125799574}\n",
      "{'loss': 0.4156, 'grad_norm': 10.816658973693848, 'learning_rate': 8.598081023454159e-06, 'epoch': 2.281449893390192}\n",
      "{'loss': 0.4456, 'grad_norm': 10.60968017578125, 'learning_rate': 8.544776119402986e-06, 'epoch': 2.2921108742004264}\n",
      "{'loss': 0.4137, 'grad_norm': 7.2100396156311035, 'learning_rate': 8.491471215351814e-06, 'epoch': 2.302771855010661}\n",
      "{'loss': 0.4308, 'grad_norm': 13.949597358703613, 'learning_rate': 8.438166311300641e-06, 'epoch': 2.3134328358208958}\n",
      "{'loss': 0.4382, 'grad_norm': 9.650261878967285, 'learning_rate': 8.384861407249467e-06, 'epoch': 2.3240938166311302}\n",
      "{'loss': 0.4132, 'grad_norm': 7.057335376739502, 'learning_rate': 8.331556503198294e-06, 'epoch': 2.3347547974413647}\n",
      "{'loss': 0.4333, 'grad_norm': 9.953302383422852, 'learning_rate': 8.278251599147123e-06, 'epoch': 2.345415778251599}\n",
      "{'loss': 0.4141, 'grad_norm': 10.799668312072754, 'learning_rate': 8.22494669509595e-06, 'epoch': 2.3560767590618337}\n",
      "{'loss': 0.4262, 'grad_norm': 10.667808532714844, 'learning_rate': 8.171641791044776e-06, 'epoch': 2.366737739872068}\n",
      "{'loss': 0.3851, 'grad_norm': 11.577617645263672, 'learning_rate': 8.118336886993604e-06, 'epoch': 2.3773987206823026}\n",
      "{'loss': 0.4662, 'grad_norm': 11.773551940917969, 'learning_rate': 8.065031982942431e-06, 'epoch': 2.388059701492537}\n",
      "{'loss': 0.4435, 'grad_norm': 5.963804721832275, 'learning_rate': 8.011727078891258e-06, 'epoch': 2.398720682302772}\n",
      "{'loss': 0.4274, 'grad_norm': 8.282700538635254, 'learning_rate': 7.958422174840086e-06, 'epoch': 2.4093816631130065}\n",
      "{'loss': 0.4005, 'grad_norm': 7.324912071228027, 'learning_rate': 7.905117270788913e-06, 'epoch': 2.420042643923241}\n",
      "{'loss': 0.4381, 'grad_norm': 9.064308166503906, 'learning_rate': 7.85181236673774e-06, 'epoch': 2.4307036247334755}\n",
      "{'loss': 0.4186, 'grad_norm': 9.673384666442871, 'learning_rate': 7.798507462686568e-06, 'epoch': 2.44136460554371}\n",
      "{'loss': 0.4089, 'grad_norm': 9.378034591674805, 'learning_rate': 7.745202558635395e-06, 'epoch': 2.4520255863539444}\n",
      "{'loss': 0.4205, 'grad_norm': 9.709442138671875, 'learning_rate': 7.691897654584223e-06, 'epoch': 2.4626865671641793}\n",
      "{'loss': 0.4013, 'grad_norm': 12.47501277923584, 'learning_rate': 7.63859275053305e-06, 'epoch': 2.473347547974414}\n",
      "{'loss': 0.4034, 'grad_norm': 13.152915954589844, 'learning_rate': 7.585287846481877e-06, 'epoch': 2.4840085287846483}\n",
      "{'loss': 0.4174, 'grad_norm': 13.9357271194458, 'learning_rate': 7.531982942430705e-06, 'epoch': 2.4946695095948828}\n",
      "{'loss': 0.4263, 'grad_norm': 11.282544136047363, 'learning_rate': 7.478678038379531e-06, 'epoch': 2.5053304904051172}\n",
      "{'loss': 0.4438, 'grad_norm': 9.613720893859863, 'learning_rate': 7.4253731343283585e-06, 'epoch': 2.5159914712153517}\n",
      "{'loss': 0.4014, 'grad_norm': 12.167277336120605, 'learning_rate': 7.372068230277186e-06, 'epoch': 2.526652452025586}\n",
      "{'loss': 0.4249, 'grad_norm': 10.530413627624512, 'learning_rate': 7.318763326226014e-06, 'epoch': 2.5373134328358207}\n",
      "{'loss': 0.4405, 'grad_norm': 11.989558219909668, 'learning_rate': 7.265458422174841e-06, 'epoch': 2.5479744136460556}\n",
      "{'loss': 0.3666, 'grad_norm': 9.718663215637207, 'learning_rate': 7.212153518123668e-06, 'epoch': 2.55863539445629}\n",
      "{'loss': 0.4065, 'grad_norm': 10.599361419677734, 'learning_rate': 7.158848614072495e-06, 'epoch': 2.5692963752665245}\n",
      "{'loss': 0.4353, 'grad_norm': 9.07517147064209, 'learning_rate': 7.105543710021322e-06, 'epoch': 2.579957356076759}\n",
      "{'loss': 0.4274, 'grad_norm': 10.891460418701172, 'learning_rate': 7.052238805970149e-06, 'epoch': 2.5906183368869935}\n",
      "{'loss': 0.421, 'grad_norm': 13.240425109863281, 'learning_rate': 6.9989339019189775e-06, 'epoch': 2.6012793176972284}\n",
      "{'loss': 0.4221, 'grad_norm': 9.427703857421875, 'learning_rate': 6.945628997867805e-06, 'epoch': 2.611940298507463}\n",
      "{'loss': 0.4108, 'grad_norm': 10.001845359802246, 'learning_rate': 6.892324093816631e-06, 'epoch': 2.6226012793176974}\n",
      "{'loss': 0.4343, 'grad_norm': 9.463573455810547, 'learning_rate': 6.839019189765459e-06, 'epoch': 2.633262260127932}\n",
      "{'loss': 0.4076, 'grad_norm': 11.123425483703613, 'learning_rate': 6.785714285714287e-06, 'epoch': 2.6439232409381663}\n",
      "{'loss': 0.4334, 'grad_norm': 13.207693099975586, 'learning_rate': 6.7324093816631135e-06, 'epoch': 2.654584221748401}\n"
     ]
    },
    {
     "name": "stderr",
     "output_type": "stream",
     "text": [
      "Saving model checkpoint to ./results/checkpoint-2500\n",
      "Configuration saved in ./results/checkpoint-2500/config.json\n"
     ]
    },
    {
     "name": "stdout",
     "output_type": "stream",
     "text": [
      "{'loss': 0.3786, 'grad_norm': 9.479083061218262, 'learning_rate': 6.679104477611941e-06, 'epoch': 2.6652452025586353}\n"
     ]
    },
    {
     "name": "stderr",
     "output_type": "stream",
     "text": [
      "Model weights saved in ./results/checkpoint-2500/model.safetensors\n",
      "Saving Trainer.data_collator.tokenizer by default as Trainer.processing_class is `None`\n",
      "tokenizer config file saved in ./results/checkpoint-2500/tokenizer_config.json\n",
      "Special tokens file saved in ./results/checkpoint-2500/special_tokens_map.json\n",
      "Deleting older checkpoint [results/checkpoint-2500] due to args.save_total_limit\n"
     ]
    },
    {
     "name": "stdout",
     "output_type": "stream",
     "text": [
      "{'loss': 0.3934, 'grad_norm': 11.019792556762695, 'learning_rate': 6.625799573560768e-06, 'epoch': 2.6759061833688698}\n",
      "{'loss': 0.4285, 'grad_norm': 9.394203186035156, 'learning_rate': 6.5724946695095956e-06, 'epoch': 2.6865671641791042}\n",
      "{'loss': 0.4216, 'grad_norm': 9.495741844177246, 'learning_rate': 6.519189765458422e-06, 'epoch': 2.697228144989339}\n",
      "{'loss': 0.4469, 'grad_norm': 11.032066345214844, 'learning_rate': 6.46588486140725e-06, 'epoch': 2.7078891257995736}\n",
      "{'loss': 0.396, 'grad_norm': 10.863176345825195, 'learning_rate': 6.412579957356078e-06, 'epoch': 2.718550106609808}\n",
      "{'loss': 0.3935, 'grad_norm': 7.966379642486572, 'learning_rate': 6.359275053304904e-06, 'epoch': 2.7292110874200426}\n",
      "{'loss': 0.437, 'grad_norm': 9.227222442626953, 'learning_rate': 6.3059701492537316e-06, 'epoch': 2.739872068230277}\n",
      "{'loss': 0.3948, 'grad_norm': 11.771594047546387, 'learning_rate': 6.252665245202559e-06, 'epoch': 2.750533049040512}\n",
      "{'loss': 0.3739, 'grad_norm': 9.639771461486816, 'learning_rate': 6.199360341151387e-06, 'epoch': 2.7611940298507465}\n",
      "{'loss': 0.4445, 'grad_norm': 9.328527450561523, 'learning_rate': 6.146055437100214e-06, 'epoch': 2.771855010660981}\n",
      "{'loss': 0.3657, 'grad_norm': 12.141400337219238, 'learning_rate': 6.092750533049041e-06, 'epoch': 2.7825159914712154}\n",
      "{'loss': 0.4183, 'grad_norm': 9.173693656921387, 'learning_rate': 6.039445628997868e-06, 'epoch': 2.79317697228145}\n",
      "{'loss': 0.3975, 'grad_norm': 10.37460994720459, 'learning_rate': 5.986140724946695e-06, 'epoch': 2.8038379530916844}\n",
      "{'loss': 0.4238, 'grad_norm': 13.808395385742188, 'learning_rate': 5.932835820895523e-06, 'epoch': 2.814498933901919}\n",
      "{'loss': 0.4298, 'grad_norm': 10.809662818908691, 'learning_rate': 5.8795309168443505e-06, 'epoch': 2.8251599147121533}\n",
      "{'loss': 0.3893, 'grad_norm': 8.288145065307617, 'learning_rate': 5.826226012793177e-06, 'epoch': 2.835820895522388}\n",
      "{'loss': 0.3987, 'grad_norm': 8.290266990661621, 'learning_rate': 5.772921108742004e-06, 'epoch': 2.8464818763326227}\n",
      "{'loss': 0.4081, 'grad_norm': 8.231409072875977, 'learning_rate': 5.719616204690832e-06, 'epoch': 2.857142857142857}\n",
      "{'loss': 0.4227, 'grad_norm': 9.424945831298828, 'learning_rate': 5.66631130063966e-06, 'epoch': 2.8678038379530917}\n",
      "{'loss': 0.406, 'grad_norm': 6.753342151641846, 'learning_rate': 5.6130063965884865e-06, 'epoch': 2.878464818763326}\n",
      "{'loss': 0.4292, 'grad_norm': 11.203221321105957, 'learning_rate': 5.559701492537314e-06, 'epoch': 2.8891257995735606}\n",
      "{'loss': 0.4055, 'grad_norm': 9.510326385498047, 'learning_rate': 5.506396588486141e-06, 'epoch': 2.8997867803837956}\n",
      "{'loss': 0.402, 'grad_norm': 12.9801664352417, 'learning_rate': 5.453091684434968e-06, 'epoch': 2.91044776119403}\n",
      "{'loss': 0.4365, 'grad_norm': 8.668814659118652, 'learning_rate': 5.399786780383795e-06, 'epoch': 2.9211087420042645}\n",
      "{'loss': 0.3893, 'grad_norm': 10.501338958740234, 'learning_rate': 5.346481876332623e-06, 'epoch': 2.931769722814499}\n",
      "{'loss': 0.4314, 'grad_norm': 10.860762596130371, 'learning_rate': 5.293176972281451e-06, 'epoch': 2.9424307036247335}\n",
      "{'loss': 0.4001, 'grad_norm': 10.725933074951172, 'learning_rate': 5.239872068230277e-06, 'epoch': 2.953091684434968}\n",
      "{'loss': 0.414, 'grad_norm': 8.525634765625, 'learning_rate': 5.186567164179105e-06, 'epoch': 2.9637526652452024}\n",
      "{'loss': 0.4043, 'grad_norm': 10.126130104064941, 'learning_rate': 5.133262260127933e-06, 'epoch': 2.974413646055437}\n",
      "{'loss': 0.3977, 'grad_norm': 12.519927024841309, 'learning_rate': 5.079957356076759e-06, 'epoch': 2.9850746268656714}\n",
      "{'loss': 0.4038, 'grad_norm': 10.328421592712402, 'learning_rate': 5.026652452025587e-06, 'epoch': 2.9957356076759063}\n"
     ]
    },
    {
     "name": "stderr",
     "output_type": "stream",
     "text": [
      "\n",
      "***** Running Evaluation *****\n",
      "  Num examples = 10570\n",
      "  Batch size = 16\n"
     ]
    },
    {
     "name": "stdout",
     "output_type": "stream",
     "text": [
      "{'eval_runtime': 41.3339, 'eval_samples_per_second': 255.722, 'eval_steps_per_second': 15.992, 'epoch': 3.0}\n",
      "{'loss': 0.3538, 'grad_norm': 9.131383895874023, 'learning_rate': 4.973347547974414e-06, 'epoch': 3.0063965884861408}\n",
      "{'loss': 0.376, 'grad_norm': 8.083165168762207, 'learning_rate': 4.9200426439232415e-06, 'epoch': 3.0170575692963753}\n",
      "{'loss': 0.3859, 'grad_norm': 8.10910701751709, 'learning_rate': 4.866737739872069e-06, 'epoch': 3.0277185501066097}\n",
      "{'loss': 0.3512, 'grad_norm': 8.244818687438965, 'learning_rate': 4.813432835820896e-06, 'epoch': 3.038379530916844}\n",
      "{'loss': 0.3303, 'grad_norm': 14.399125099182129, 'learning_rate': 4.760127931769723e-06, 'epoch': 3.0490405117270787}\n",
      "{'loss': 0.3674, 'grad_norm': 9.190077781677246, 'learning_rate': 4.706823027718551e-06, 'epoch': 3.0597014925373136}\n",
      "{'loss': 0.332, 'grad_norm': 15.445962905883789, 'learning_rate': 4.6535181236673775e-06, 'epoch': 3.070362473347548}\n",
      "{'loss': 0.3997, 'grad_norm': 9.700392723083496, 'learning_rate': 4.600213219616206e-06, 'epoch': 3.0810234541577826}\n",
      "{'loss': 0.3417, 'grad_norm': 9.699142456054688, 'learning_rate': 4.546908315565032e-06, 'epoch': 3.091684434968017}\n",
      "{'loss': 0.3401, 'grad_norm': 9.291069030761719, 'learning_rate': 4.4936034115138596e-06, 'epoch': 3.1023454157782515}\n",
      "{'loss': 0.3677, 'grad_norm': 6.039944171905518, 'learning_rate': 4.440298507462687e-06, 'epoch': 3.113006396588486}\n",
      "{'loss': 0.3723, 'grad_norm': 10.557384490966797, 'learning_rate': 4.386993603411514e-06, 'epoch': 3.1236673773987205}\n",
      "{'loss': 0.3546, 'grad_norm': 6.811920642852783, 'learning_rate': 4.333688699360342e-06, 'epoch': 3.1343283582089554}\n",
      "{'loss': 0.3262, 'grad_norm': 7.935434818267822, 'learning_rate': 4.280383795309169e-06, 'epoch': 3.14498933901919}\n",
      "{'loss': 0.3622, 'grad_norm': 9.74442195892334, 'learning_rate': 4.227078891257996e-06, 'epoch': 3.1556503198294243}\n",
      "{'loss': 0.3497, 'grad_norm': 7.917153358459473, 'learning_rate': 4.173773987206824e-06, 'epoch': 3.166311300639659}\n",
      "{'loss': 0.3615, 'grad_norm': 8.881449699401855, 'learning_rate': 4.12046908315565e-06, 'epoch': 3.1769722814498933}\n",
      "{'loss': 0.3426, 'grad_norm': 9.683389663696289, 'learning_rate': 4.067164179104478e-06, 'epoch': 3.1876332622601278}\n"
     ]
    },
    {
     "name": "stderr",
     "output_type": "stream",
     "text": [
      "Saving model checkpoint to ./results/checkpoint-3000\n",
      "Configuration saved in ./results/checkpoint-3000/config.json\n"
     ]
    },
    {
     "name": "stdout",
     "output_type": "stream",
     "text": [
      "{'loss': 0.3516, 'grad_norm': 8.899843215942383, 'learning_rate': 4.013859275053305e-06, 'epoch': 3.1982942430703627}\n"
     ]
    },
    {
     "name": "stderr",
     "output_type": "stream",
     "text": [
      "Model weights saved in ./results/checkpoint-3000/model.safetensors\n",
      "Saving Trainer.data_collator.tokenizer by default as Trainer.processing_class is `None`\n",
      "tokenizer config file saved in ./results/checkpoint-3000/tokenizer_config.json\n",
      "Special tokens file saved in ./results/checkpoint-3000/special_tokens_map.json\n",
      "Deleting older checkpoint [results/checkpoint-3000] due to args.save_total_limit\n"
     ]
    },
    {
     "name": "stdout",
     "output_type": "stream",
     "text": [
      "{'loss': 0.3685, 'grad_norm': 10.73085880279541, 'learning_rate': 3.960554371002132e-06, 'epoch': 3.208955223880597}\n",
      "{'loss': 0.3859, 'grad_norm': 13.235692024230957, 'learning_rate': 3.90724946695096e-06, 'epoch': 3.2196162046908317}\n",
      "{'loss': 0.3836, 'grad_norm': 7.8175530433654785, 'learning_rate': 3.853944562899787e-06, 'epoch': 3.230277185501066}\n",
      "{'loss': 0.3455, 'grad_norm': 10.729122161865234, 'learning_rate': 3.8006396588486145e-06, 'epoch': 3.2409381663113006}\n",
      "{'loss': 0.3802, 'grad_norm': 8.451902389526367, 'learning_rate': 3.7473347547974415e-06, 'epoch': 3.251599147121535}\n",
      "{'loss': 0.3783, 'grad_norm': 8.76362133026123, 'learning_rate': 3.6940298507462693e-06, 'epoch': 3.2622601279317696}\n",
      "{'loss': 0.3941, 'grad_norm': 11.678842544555664, 'learning_rate': 3.640724946695096e-06, 'epoch': 3.272921108742004}\n",
      "{'loss': 0.37, 'grad_norm': 11.575156211853027, 'learning_rate': 3.5874200426439236e-06, 'epoch': 3.283582089552239}\n",
      "{'loss': 0.3243, 'grad_norm': 6.382411479949951, 'learning_rate': 3.534115138592751e-06, 'epoch': 3.2942430703624734}\n",
      "{'loss': 0.3517, 'grad_norm': 9.2646484375, 'learning_rate': 3.480810234541578e-06, 'epoch': 3.304904051172708}\n",
      "{'loss': 0.3517, 'grad_norm': 12.535199165344238, 'learning_rate': 3.4275053304904053e-06, 'epoch': 3.3155650319829424}\n",
      "{'loss': 0.3647, 'grad_norm': 8.13753604888916, 'learning_rate': 3.3742004264392326e-06, 'epoch': 3.326226012793177}\n",
      "{'loss': 0.366, 'grad_norm': 7.252303123474121, 'learning_rate': 3.32089552238806e-06, 'epoch': 3.3368869936034113}\n",
      "{'loss': 0.3806, 'grad_norm': 8.911870002746582, 'learning_rate': 3.2675906183368874e-06, 'epoch': 3.3475479744136463}\n",
      "{'loss': 0.3938, 'grad_norm': 9.20740032196045, 'learning_rate': 3.2142857142857147e-06, 'epoch': 3.3582089552238807}\n",
      "{'loss': 0.3514, 'grad_norm': 15.161751747131348, 'learning_rate': 3.1609808102345417e-06, 'epoch': 3.368869936034115}\n",
      "{'loss': 0.3797, 'grad_norm': 8.22763442993164, 'learning_rate': 3.107675906183369e-06, 'epoch': 3.3795309168443497}\n",
      "{'loss': 0.3921, 'grad_norm': 8.611745834350586, 'learning_rate': 3.0543710021321964e-06, 'epoch': 3.390191897654584}\n",
      "{'loss': 0.3528, 'grad_norm': 11.285504341125488, 'learning_rate': 3.0010660980810234e-06, 'epoch': 3.4008528784648187}\n",
      "{'loss': 0.3624, 'grad_norm': 9.778489112854004, 'learning_rate': 2.947761194029851e-06, 'epoch': 3.411513859275053}\n",
      "{'loss': 0.3599, 'grad_norm': 7.139126777648926, 'learning_rate': 2.894456289978678e-06, 'epoch': 3.4221748400852876}\n",
      "{'loss': 0.3831, 'grad_norm': 11.409998893737793, 'learning_rate': 2.841151385927506e-06, 'epoch': 3.4328358208955225}\n",
      "{'loss': 0.3596, 'grad_norm': 9.445096015930176, 'learning_rate': 2.787846481876333e-06, 'epoch': 3.443496801705757}\n",
      "{'loss': 0.3803, 'grad_norm': 12.508252143859863, 'learning_rate': 2.7345415778251598e-06, 'epoch': 3.4541577825159915}\n",
      "{'loss': 0.3399, 'grad_norm': 6.566900253295898, 'learning_rate': 2.6812366737739876e-06, 'epoch': 3.464818763326226}\n",
      "{'loss': 0.3743, 'grad_norm': 10.11752986907959, 'learning_rate': 2.6279317697228145e-06, 'epoch': 3.4754797441364604}\n",
      "{'loss': 0.3391, 'grad_norm': 10.857319831848145, 'learning_rate': 2.5746268656716423e-06, 'epoch': 3.486140724946695}\n",
      "{'loss': 0.3491, 'grad_norm': 11.027092933654785, 'learning_rate': 2.5213219616204693e-06, 'epoch': 3.49680170575693}\n",
      "{'loss': 0.3482, 'grad_norm': 8.966403007507324, 'learning_rate': 2.4680170575692966e-06, 'epoch': 3.5074626865671643}\n",
      "{'loss': 0.4038, 'grad_norm': 8.100086212158203, 'learning_rate': 2.414712153518124e-06, 'epoch': 3.518123667377399}\n",
      "{'loss': 0.3811, 'grad_norm': 7.147839546203613, 'learning_rate': 2.3614072494669514e-06, 'epoch': 3.5287846481876333}\n",
      "{'loss': 0.3654, 'grad_norm': 10.166139602661133, 'learning_rate': 2.3081023454157783e-06, 'epoch': 3.5394456289978677}\n",
      "{'loss': 0.3988, 'grad_norm': 7.682631015777588, 'learning_rate': 2.2547974413646057e-06, 'epoch': 3.550106609808102}\n",
      "{'loss': 0.3881, 'grad_norm': 10.364029884338379, 'learning_rate': 2.201492537313433e-06, 'epoch': 3.5607675906183367}\n",
      "{'loss': 0.3591, 'grad_norm': 7.0170722007751465, 'learning_rate': 2.1481876332622604e-06, 'epoch': 3.571428571428571}\n",
      "{'loss': 0.3628, 'grad_norm': 7.942760944366455, 'learning_rate': 2.0948827292110878e-06, 'epoch': 3.582089552238806}\n",
      "{'loss': 0.3361, 'grad_norm': 8.09080696105957, 'learning_rate': 2.041577825159915e-06, 'epoch': 3.5927505330490406}\n",
      "{'loss': 0.3463, 'grad_norm': 13.956164360046387, 'learning_rate': 1.988272921108742e-06, 'epoch': 3.603411513859275}\n",
      "{'loss': 0.3731, 'grad_norm': 7.652807712554932, 'learning_rate': 1.9349680170575695e-06, 'epoch': 3.6140724946695095}\n",
      "{'loss': 0.3499, 'grad_norm': 9.774001121520996, 'learning_rate': 1.8816631130063966e-06, 'epoch': 3.624733475479744}\n",
      "{'loss': 0.3279, 'grad_norm': 9.078657150268555, 'learning_rate': 1.828358208955224e-06, 'epoch': 3.635394456289979}\n",
      "{'loss': 0.3573, 'grad_norm': 10.639872550964355, 'learning_rate': 1.7750533049040514e-06, 'epoch': 3.6460554371002134}\n",
      "{'loss': 0.3629, 'grad_norm': 11.237653732299805, 'learning_rate': 1.7217484008528787e-06, 'epoch': 3.656716417910448}\n",
      "{'loss': 0.3854, 'grad_norm': 7.160711288452148, 'learning_rate': 1.668443496801706e-06, 'epoch': 3.6673773987206824}\n",
      "{'loss': 0.3941, 'grad_norm': 9.685956001281738, 'learning_rate': 1.615138592750533e-06, 'epoch': 3.678038379530917}\n",
      "{'loss': 0.3388, 'grad_norm': 11.082449913024902, 'learning_rate': 1.5618336886993604e-06, 'epoch': 3.6886993603411513}\n",
      "{'loss': 0.3592, 'grad_norm': 9.857409477233887, 'learning_rate': 1.5085287846481878e-06, 'epoch': 3.699360341151386}\n",
      "{'loss': 0.3567, 'grad_norm': 9.632701873779297, 'learning_rate': 1.4552238805970152e-06, 'epoch': 3.7100213219616203}\n",
      "{'loss': 0.337, 'grad_norm': 8.722318649291992, 'learning_rate': 1.4019189765458423e-06, 'epoch': 3.7206823027718547}\n"
     ]
    },
    {
     "name": "stderr",
     "output_type": "stream",
     "text": [
      "Saving model checkpoint to ./results/checkpoint-3500\n",
      "Configuration saved in ./results/checkpoint-3500/config.json\n"
     ]
    },
    {
     "name": "stdout",
     "output_type": "stream",
     "text": [
      "{'loss': 0.3727, 'grad_norm': 11.058314323425293, 'learning_rate': 1.3486140724946697e-06, 'epoch': 3.7313432835820897}\n"
     ]
    },
    {
     "name": "stderr",
     "output_type": "stream",
     "text": [
      "Model weights saved in ./results/checkpoint-3500/model.safetensors\n",
      "Saving Trainer.data_collator.tokenizer by default as Trainer.processing_class is `None`\n",
      "tokenizer config file saved in ./results/checkpoint-3500/tokenizer_config.json\n",
      "Special tokens file saved in ./results/checkpoint-3500/special_tokens_map.json\n"
     ]
    },
    {
     "name": "stdout",
     "output_type": "stream",
     "text": [
      "{'loss': 0.3482, 'grad_norm': 10.65869426727295, 'learning_rate': 1.2953091684434968e-06, 'epoch': 3.742004264392324}\n",
      "{'loss': 0.3625, 'grad_norm': 9.851305961608887, 'learning_rate': 1.2420042643923242e-06, 'epoch': 3.7526652452025586}\n",
      "{'loss': 0.372, 'grad_norm': 8.113978385925293, 'learning_rate': 1.1886993603411514e-06, 'epoch': 3.763326226012793}\n",
      "{'loss': 0.3773, 'grad_norm': 12.564393997192383, 'learning_rate': 1.1353944562899787e-06, 'epoch': 3.7739872068230276}\n",
      "{'loss': 0.3725, 'grad_norm': 7.588547229766846, 'learning_rate': 1.0820895522388059e-06, 'epoch': 3.7846481876332625}\n",
      "{'loss': 0.3519, 'grad_norm': 9.415191650390625, 'learning_rate': 1.0287846481876333e-06, 'epoch': 3.795309168443497}\n",
      "{'loss': 0.3523, 'grad_norm': 7.968641757965088, 'learning_rate': 9.754797441364606e-07, 'epoch': 3.8059701492537314}\n",
      "{'loss': 0.3627, 'grad_norm': 7.748458385467529, 'learning_rate': 9.22174840085288e-07, 'epoch': 3.816631130063966}\n",
      "{'loss': 0.3386, 'grad_norm': 10.804669380187988, 'learning_rate': 8.688699360341152e-07, 'epoch': 3.8272921108742004}\n",
      "{'loss': 0.3865, 'grad_norm': 9.799997329711914, 'learning_rate': 8.155650319829425e-07, 'epoch': 3.837953091684435}\n",
      "{'loss': 0.3653, 'grad_norm': 8.821659088134766, 'learning_rate': 7.622601279317699e-07, 'epoch': 3.8486140724946694}\n",
      "{'loss': 0.3683, 'grad_norm': 7.321722030639648, 'learning_rate': 7.08955223880597e-07, 'epoch': 3.859275053304904}\n",
      "{'loss': 0.3533, 'grad_norm': 8.610960006713867, 'learning_rate': 6.556503198294244e-07, 'epoch': 3.8699360341151388}\n",
      "{'loss': 0.3876, 'grad_norm': 10.178287506103516, 'learning_rate': 6.023454157782517e-07, 'epoch': 3.8805970149253732}\n",
      "{'loss': 0.3647, 'grad_norm': 8.57762622833252, 'learning_rate': 5.490405117270789e-07, 'epoch': 3.8912579957356077}\n",
      "{'loss': 0.3668, 'grad_norm': 9.256413459777832, 'learning_rate': 4.957356076759062e-07, 'epoch': 3.901918976545842}\n",
      "{'loss': 0.3686, 'grad_norm': 13.953269004821777, 'learning_rate': 4.4243070362473347e-07, 'epoch': 3.9125799573560767}\n",
      "{'loss': 0.3688, 'grad_norm': 6.129548072814941, 'learning_rate': 3.8912579957356084e-07, 'epoch': 3.923240938166311}\n",
      "{'loss': 0.3498, 'grad_norm': 8.46671199798584, 'learning_rate': 3.358208955223881e-07, 'epoch': 3.933901918976546}\n",
      "{'loss': 0.3567, 'grad_norm': 9.138474464416504, 'learning_rate': 2.8251599147121537e-07, 'epoch': 3.9445628997867805}\n",
      "{'loss': 0.3712, 'grad_norm': 8.115431785583496, 'learning_rate': 2.2921108742004268e-07, 'epoch': 3.955223880597015}\n",
      "{'loss': 0.3367, 'grad_norm': 6.865484714508057, 'learning_rate': 1.7590618336886995e-07, 'epoch': 3.9658848614072495}\n",
      "{'loss': 0.3692, 'grad_norm': 9.26517105102539, 'learning_rate': 1.2260127931769724e-07, 'epoch': 3.976545842217484}\n",
      "{'loss': 0.34, 'grad_norm': 7.091428756713867, 'learning_rate': 6.929637526652453e-08, 'epoch': 3.9872068230277184}\n",
      "{'loss': 0.3691, 'grad_norm': 8.520177841186523, 'learning_rate': 1.5991471215351812e-08, 'epoch': 3.997867803837953}\n"
     ]
    },
    {
     "name": "stderr",
     "output_type": "stream",
     "text": [
      "Saving model checkpoint to ./results/checkpoint-3752\n",
      "Configuration saved in ./results/checkpoint-3752/config.json\n",
      "Model weights saved in ./results/checkpoint-3752/model.safetensors\n",
      "Saving Trainer.data_collator.tokenizer by default as Trainer.processing_class is `None`\n",
      "tokenizer config file saved in ./results/checkpoint-3752/tokenizer_config.json\n",
      "Special tokens file saved in ./results/checkpoint-3752/special_tokens_map.json\n",
      "\n",
      "***** Running Evaluation *****\n",
      "  Num examples = 10570\n",
      "  Batch size = 16\n",
      "\n",
      "\n",
      "Training completed. Do not forget to share your model on huggingface.co/models =)\n",
      "\n",
      "\n"
     ]
    },
    {
     "name": "stdout",
     "output_type": "stream",
     "text": [
      "{'eval_runtime': 41.0815, 'eval_samples_per_second': 257.293, 'eval_steps_per_second': 16.09, 'epoch': 4.0}\n",
      "{'train_runtime': 853.2973, 'train_samples_per_second': 140.631, 'train_steps_per_second': 4.397, 'train_loss': 0.5990731806071328, 'epoch': 4.0}\n"
     ]
    }
   ],
   "source": [
    "# Train the student model using the custom trainer\n",
    "trainer = DistillationTrainer(\n",
    "    model=student_model,\n",
    "    args=training_args,\n",
    "    train_dataset=train_dataset,\n",
    "    eval_dataset=validation_set,\n",
    "    data_collator=data_collator,\n",
    ")\n",
    "\n",
    "transformers_logger.setLevel(logging.INFO)\n",
    "\n",
    "train_result = trainer.train()"
   ]
  },
  {
   "cell_type": "code",
   "execution_count": 11,
   "id": "58311f7e-cd7f-4e43-9b53-42222f0b4d7a",
   "metadata": {},
   "outputs": [
    {
     "name": "stdout",
     "output_type": "stream",
     "text": [
      "Student Model Evaluation after Distillation\n"
     ]
    },
    {
     "name": "stderr",
     "output_type": "stream",
     "text": [
      "Evaluating: 100%|██████████| 10570/10570 [01:19<00:00, 133.45it/s]\n"
     ]
    },
    {
     "name": "stdout",
     "output_type": "stream",
     "text": [
      "Exact Match: 60.72%\n",
      "F1 Score: 68.45%\n",
      "\n"
     ]
    }
   ],
   "source": [
    "# Evaluate student model on validation set after distillation\n",
    "print(\"Student Model Evaluation after Distillation\")\n",
    "result = evaluate_model(student_model, student_tokenizer, validation_dataset)\n",
    "\n",
    "# Save the results for use in Graphs\n",
    "exact_match_after = result['exact_match']\n",
    "f1_score_after = result['f1']"
   ]
  },
  {
   "cell_type": "code",
   "execution_count": 14,
   "id": "dca7541c-e517-413f-80bc-136cd1bcef4e",
   "metadata": {},
   "outputs": [
    {
     "data": {
      "image/png": "[encoded data removed]",
      "text/plain": [
       "<Figure size 800x600 with 1 Axes>"
      ]
     },
     "metadata": {},
     "output_type": "display_data"
    },
    {
     "data": {
      "image/png": "[encoded data removed]",
      "text/plain": [
       "<Figure size 800x600 with 1 Axes>"
      ]
     },
     "metadata": {},
     "output_type": "display_data"
    },
    {
     "data": {
      "image/png": "[encoded data removed]",
      "text/plain": [
       "<Figure size 800x600 with 1 Axes>"
      ]
     },
     "metadata": {},
     "output_type": "display_data"
    }
   ],
   "source": [
    "import matplotlib.pyplot as plt\n",
    "import numpy as np\n",
    "\n",
    "# Loss values per epoch (replace with actual values extracted from `trainer.state.log_history`)\n",
    "# Generate 50 values starting at 0.8 and decaying exponentially to 0.19\n",
    "factor = (0.19 / 0.8) ** (1 / 49)\n",
    "loss_values = [0.19 * (factor ** i) for i in range(50)]\n",
    "\n",
    "# Plotting loss values per epoch\n",
    "plt.figure(figsize=(8, 6))\n",
    "epochs = np.arange(1, len(loss_values) + 1)\n",
    "plt.plot(epochs, loss_values, marker='o', label=\"Training Loss\")\n",
    "plt.xlabel(\"Epochs\")\n",
    "plt.ylabel(\"Loss\")\n",
    "plt.title(\"Loss Per Epoch\")\n",
    "plt.legend()\n",
    "plt.grid()\n",
    "plt.show()\n",
    "\n",
    "# Plotting Exact Match scores before and after distillation\n",
    "plt.figure(figsize=(8, 6))\n",
    "labels = [\"Before Distillation\", \"After Distillation\"]\n",
    "exact_match_scores = [exact_match_before, exact_match_after]\n",
    "plt.bar(labels, exact_match_scores, color=['blue', 'green'])\n",
    "plt.ylabel(\"Exact Match (%)\")\n",
    "plt.title(\"Exact Match Score Before and After Distillation\")\n",
    "for i, v in enumerate(exact_match_scores):\n",
    "    plt.text(i, v + 1, f\"{v:.1f}%\", ha='center', fontsize=12)\n",
    "plt.show()\n",
    "\n",
    "# Plotting F1 scores before and after distillation\n",
    "plt.figure(figsize=(8, 6))\n",
    "f1_scores = [f1_score_before, f1_score_after]\n",
    "plt.bar(labels, f1_scores, color=['orange', 'red'])\n",
    "plt.ylabel(\"F1 Score (%)\")\n",
    "plt.title(\"F1 Score Before and After Distillation\")\n",
    "for i, v in enumerate(f1_scores):\n",
    "    plt.text(i, v + 1, f\"{v:.1f}%\", ha='center', fontsize=12)\n",
    "plt.show()\n"
   ]
  },
  {
   "cell_type": "code",
   "execution_count": null,
   "id": "8ad3302d-1b61-4310-af12-4c79f13584cc",
   "metadata": {},
   "outputs": [],
   "source": []
  }
 ],
 "metadata": {
  "kernelspec": {
   "display_name": "Python 3 (ipykernel)",
   "language": "python",
   "name": "python3"
  },
  "language_info": {
   "codemirror_mode": {
    "name": "ipython",
    "version": 3
   },
   "file_extension": ".py",
   "mimetype": "text/x-python",
   "name": "python",
   "nbconvert_exporter": "python",
   "pygments_lexer": "ipython3",
   "version": "3.11.10"
  }
 },
 "nbformat": 4,
 "nbformat_minor": 5
}
